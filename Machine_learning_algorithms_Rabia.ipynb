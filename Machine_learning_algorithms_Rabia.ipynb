{
 "cells": [
  {
   "cell_type": "code",
   "execution_count": 1,
   "id": "65c66660-63cf-440a-beed-fa24f0ce6fe2",
   "metadata": {},
   "outputs": [],
   "source": [
    "import matplotlib.pyplot as plt\n",
    "import numpy as np\n",
    "import pandas as pd\n",
    "import seaborn as sns\n",
    "import warnings\n",
    "import os\n",
    "from datetime import datetime\n",
    "from datetime import date"
   ]
  },
  {
   "cell_type": "code",
   "execution_count": 16,
   "id": "6bcd669a-5a49-48b5-ba03-3700ba809b5f",
   "metadata": {},
   "outputs": [],
   "source": [
    "import warnings\n",
    "warnings.filterwarnings('ignore')"
   ]
  },
  {
   "cell_type": "code",
   "execution_count": 4,
   "id": "85063c20-abba-4494-97c5-92911b9dc81c",
   "metadata": {},
   "outputs": [],
   "source": [
    "#data = pd.read_csv('lung_cancer_mortality_data_large_v2.csv')\n",
    "#data = data_1.sample(n = 5000 , random_state = 42)\n",
    "data  =  pd.read_csv('lung_cancer_mortality_data_test_v2.csv')"
   ]
  },
  {
   "cell_type": "code",
   "execution_count": 5,
   "id": "c4a5bdd3-69dc-4c6f-89c6-f5967e07153e",
   "metadata": {},
   "outputs": [
    {
     "data": {
      "text/plain": [
       "(1000, 18)"
      ]
     },
     "execution_count": 5,
     "metadata": {},
     "output_type": "execute_result"
    }
   ],
   "source": [
    "data.shape"
   ]
  },
  {
   "cell_type": "code",
   "execution_count": 87,
   "id": "28fe03b3-5539-4816-ba58-6b87bd85436d",
   "metadata": {},
   "outputs": [],
   "source": [
    "#data = data_1.sample(n = 5000, random_state = 42)"
   ]
  },
  {
   "cell_type": "markdown",
   "id": "487fb679-847b-4521-9799-441d3cacc3bc",
   "metadata": {},
   "source": [
    "### Chi-square test"
   ]
  },
  {
   "cell_type": "markdown",
   "id": "e0f3abf8-80aa-40a5-b09c-5ce6ba71c4e7",
   "metadata": {},
   "source": [
    "#### Chi-square test is used to compute p-value used to see the relationship between binary type features.\n",
    "#### If p-value < 0.05, this means both features have significant relationship"
   ]
  },
  {
   "cell_type": "code",
   "execution_count": 6,
   "id": "9dd832b7-ccf4-45bb-9b93-6c1a25793daa",
   "metadata": {},
   "outputs": [],
   "source": [
    "cross_hy = pd.crosstab(data[\"hypertension\"], data[\"survived\"])\n",
    "\n",
    "cross_as = pd.crosstab(data[\"asthma\"], data[\"survived\"])\n",
    "\n",
    "cross_ci = pd.crosstab(data[\"cirrhosis\"], data[\"survived\"])\n",
    "\n",
    "cross_oc = pd.crosstab(data[\"other_cancer\"], data[\"survived\"])"
   ]
  },
  {
   "cell_type": "code",
   "execution_count": 7,
   "id": "eddd5d6a-89cd-478f-a363-c7b82ed075d2",
   "metadata": {},
   "outputs": [],
   "source": [
    "from scipy.stats import chi2_contingency"
   ]
  },
  {
   "cell_type": "code",
   "execution_count": 8,
   "id": "ff003ac2-b54e-4712-9a5a-de67f6e406c4",
   "metadata": {},
   "outputs": [
    {
     "name": "stdout",
     "output_type": "stream",
     "text": [
      "p_hypertension: 0.1579234811640775\n"
     ]
    }
   ],
   "source": [
    "chi2, p, dof, expected = chi2_contingency(cross_hy)\n",
    "print(f\"p_hypertension: {p}\")"
   ]
  },
  {
   "cell_type": "code",
   "execution_count": 9,
   "id": "62351bda-5a7f-4a61-bb12-5274043c9f74",
   "metadata": {},
   "outputs": [
    {
     "name": "stdout",
     "output_type": "stream",
     "text": [
      "Chi-Square Statistic: 0.3507921157518177\n",
      "P-Value_cirhosis: 0.553665074726122\n",
      "Degrees of Freedom: 1\n",
      "Expected Frequencies:\n",
      "[[710.776 191.224]\n",
      " [ 77.224  20.776]]\n"
     ]
    }
   ],
   "source": [
    "chi2, p, dof, expected = chi2_contingency(cross_oc)\n",
    "\n",
    "print(f\"Chi-Square Statistic: {chi2}\")\n",
    "print(f\"P-Value_cirhosis: {p}\")\n",
    "print(f\"Degrees of Freedom: {dof}\")\n",
    "print(\"Expected Frequencies:\")\n",
    "print(expected)"
   ]
  },
  {
   "cell_type": "code",
   "execution_count": 10,
   "id": "724468cb-9788-471e-be24-f0b222de94f8",
   "metadata": {},
   "outputs": [
    {
     "name": "stdout",
     "output_type": "stream",
     "text": [
      "p_asthama: 0.8638004904170378\n"
     ]
    }
   ],
   "source": [
    "chi2, p, dof, expected = chi2_contingency(cross_as)\n",
    "print(f\"p_asthama: {p}\")"
   ]
  },
  {
   "cell_type": "code",
   "execution_count": 11,
   "id": "50de6172-7598-4c16-a000-6334fab06866",
   "metadata": {},
   "outputs": [
    {
     "name": "stdout",
     "output_type": "stream",
     "text": [
      "p_other_cancer: 0.7886875432582311\n"
     ]
    }
   ],
   "source": [
    "chi2, p, dof, expected = chi2_contingency(cross_ci)\n",
    "print(f\"p_other_cancer: {p}\")"
   ]
  },
  {
   "cell_type": "markdown",
   "id": "f53dd31d-8e34-4370-a796-9959a55e7b89",
   "metadata": {},
   "source": [
    "# Machine learning models"
   ]
  },
  {
   "cell_type": "code",
   "execution_count": 12,
   "id": "8832b04b-54c1-4494-a054-5697e36d2319",
   "metadata": {},
   "outputs": [],
   "source": [
    "#data = pd.read_csv('lung_cancer_mortality_data_large_v2.csv') # the large data set\n",
    "#data = data_1.sample(n = 20000 , random_state = 42)\n",
    "\n",
    "#data = pd.read_csv('lung_cancer_mortality_data_large_v2.csv') # the large data set\n",
    "\n",
    "# the following file is from two data sets large dataset and test dataset\n",
    "#data = pd.read_csv('lung_cancer_mortality_data_for_machine_learning_project.csv')\n",
    "\n",
    "# the folllowing file is from one dataset\n",
    "#data = pd.read_csv('lung_cancer_mortality_data_from_large_data_set.csv')\n",
    "\n",
    "#data  =  pd.read_csv('lung_cancer_mortality_data_test_v2.csv') # the test data set\n",
    "data = pd.read_csv('lung_cancer_mortality_sample_new.csv')\n",
    "data.head()"
   ]
  },
  {
   "cell_type": "code",
   "execution_count": 13,
   "id": "4d99c97a-ec86-4791-a88c-9d585ae7d6c1",
   "metadata": {
    "scrolled": true
   },
   "outputs": [
    {
     "data": {
      "text/plain": [
       "survived\n",
       "0    788\n",
       "1    212\n",
       "Name: count, dtype: int64"
      ]
     },
     "execution_count": 13,
     "metadata": {},
     "output_type": "execute_result"
    }
   ],
   "source": [
    "data['survived'].value_counts()"
   ]
  },
  {
   "cell_type": "markdown",
   "id": "0f2312d5-60fe-44f3-8bc8-d2006986101d",
   "metadata": {},
   "source": [
    "### Another way for resampling"
   ]
  },
  {
   "cell_type": "code",
   "execution_count": 4,
   "id": "894be2c0-1faf-47c4-8c99-68538380478b",
   "metadata": {},
   "outputs": [],
   "source": [
    "from sklearn.utils import resample\n",
    "#create two different dataframe of majority and minority class \n",
    "df_majority = data[(data['survived']==0)] \n",
    "df_minority = data[(data['survived']==1)] \n",
    "# upsample minority class\n",
    "df_minority_upsampled = resample(df_minority, \n",
    "                                 replace=True,    # sample with replacement\n",
    "                                 n_samples= 2536298, # to match majority class\n",
    "                                 random_state=42)  # reproducible results\n",
    "# Combine majority class with upsampled minority class\n",
    "#df_upsampled = pd.concat([df_minority_upsampled, df_majority])\n",
    "data = pd.concat([df_minority_upsampled, df_majority])"
   ]
  },
  {
   "cell_type": "code",
   "execution_count": 14,
   "id": "7d86f075-5347-4ecd-869e-57d51c418c27",
   "metadata": {},
   "outputs": [
    {
     "data": {
      "text/html": [
       "<div>\n",
       "<style scoped>\n",
       "    .dataframe tbody tr th:only-of-type {\n",
       "        vertical-align: middle;\n",
       "    }\n",
       "\n",
       "    .dataframe tbody tr th {\n",
       "        vertical-align: top;\n",
       "    }\n",
       "\n",
       "    .dataframe thead th {\n",
       "        text-align: right;\n",
       "    }\n",
       "</style>\n",
       "<table border=\"1\" class=\"dataframe\">\n",
       "  <thead>\n",
       "    <tr style=\"text-align: right;\">\n",
       "      <th></th>\n",
       "      <th>id</th>\n",
       "      <th>age</th>\n",
       "      <th>gender</th>\n",
       "      <th>country</th>\n",
       "      <th>diagnosis_date</th>\n",
       "      <th>cancer_stage</th>\n",
       "      <th>beginning_of_treatment_date</th>\n",
       "      <th>family_history</th>\n",
       "      <th>smoking_status</th>\n",
       "      <th>bmi</th>\n",
       "      <th>cholesterol_level</th>\n",
       "      <th>hypertension</th>\n",
       "      <th>asthma</th>\n",
       "      <th>cirrhosis</th>\n",
       "      <th>other_cancer</th>\n",
       "      <th>treatment_type</th>\n",
       "      <th>end_treatment_date</th>\n",
       "      <th>survived</th>\n",
       "    </tr>\n",
       "  </thead>\n",
       "  <tbody>\n",
       "    <tr>\n",
       "      <th>0</th>\n",
       "      <td>1</td>\n",
       "      <td>64.0</td>\n",
       "      <td>Female</td>\n",
       "      <td>Slovakia</td>\n",
       "      <td>2016-04-07</td>\n",
       "      <td>Stage IV</td>\n",
       "      <td>2016-04-09</td>\n",
       "      <td>No</td>\n",
       "      <td>Former Smoker</td>\n",
       "      <td>21.2</td>\n",
       "      <td>191</td>\n",
       "      <td>0</td>\n",
       "      <td>0</td>\n",
       "      <td>0</td>\n",
       "      <td>0</td>\n",
       "      <td>Surgery</td>\n",
       "      <td>2017-02-10</td>\n",
       "      <td>0</td>\n",
       "    </tr>\n",
       "    <tr>\n",
       "      <th>1</th>\n",
       "      <td>2</td>\n",
       "      <td>50.0</td>\n",
       "      <td>Male</td>\n",
       "      <td>Slovenia</td>\n",
       "      <td>2023-04-22</td>\n",
       "      <td>Stage III</td>\n",
       "      <td>2023-05-05</td>\n",
       "      <td>Yes</td>\n",
       "      <td>Current Smoker</td>\n",
       "      <td>36.4</td>\n",
       "      <td>258</td>\n",
       "      <td>1</td>\n",
       "      <td>0</td>\n",
       "      <td>0</td>\n",
       "      <td>0</td>\n",
       "      <td>Chemotherapy</td>\n",
       "      <td>2024-08-23</td>\n",
       "      <td>0</td>\n",
       "    </tr>\n",
       "    <tr>\n",
       "      <th>2</th>\n",
       "      <td>3</td>\n",
       "      <td>65.0</td>\n",
       "      <td>Male</td>\n",
       "      <td>Italy</td>\n",
       "      <td>2023-04-07</td>\n",
       "      <td>Stage II</td>\n",
       "      <td>2023-04-12</td>\n",
       "      <td>Yes</td>\n",
       "      <td>Former Smoker</td>\n",
       "      <td>18.9</td>\n",
       "      <td>174</td>\n",
       "      <td>1</td>\n",
       "      <td>0</td>\n",
       "      <td>1</td>\n",
       "      <td>0</td>\n",
       "      <td>Chemotherapy</td>\n",
       "      <td>2025-03-24</td>\n",
       "      <td>1</td>\n",
       "    </tr>\n",
       "    <tr>\n",
       "      <th>3</th>\n",
       "      <td>4</td>\n",
       "      <td>51.0</td>\n",
       "      <td>Male</td>\n",
       "      <td>Latvia</td>\n",
       "      <td>2016-02-07</td>\n",
       "      <td>Stage I</td>\n",
       "      <td>2016-03-08</td>\n",
       "      <td>No</td>\n",
       "      <td>Passive Smoker</td>\n",
       "      <td>38.8</td>\n",
       "      <td>279</td>\n",
       "      <td>1</td>\n",
       "      <td>0</td>\n",
       "      <td>0</td>\n",
       "      <td>0</td>\n",
       "      <td>Combined</td>\n",
       "      <td>2017-03-01</td>\n",
       "      <td>0</td>\n",
       "    </tr>\n",
       "    <tr>\n",
       "      <th>4</th>\n",
       "      <td>5</td>\n",
       "      <td>37.0</td>\n",
       "      <td>Female</td>\n",
       "      <td>Spain</td>\n",
       "      <td>2023-12-01</td>\n",
       "      <td>Stage II</td>\n",
       "      <td>2023-12-04</td>\n",
       "      <td>Yes</td>\n",
       "      <td>Former Smoker</td>\n",
       "      <td>37.7</td>\n",
       "      <td>273</td>\n",
       "      <td>0</td>\n",
       "      <td>0</td>\n",
       "      <td>0</td>\n",
       "      <td>0</td>\n",
       "      <td>Combined</td>\n",
       "      <td>2025-07-16</td>\n",
       "      <td>0</td>\n",
       "    </tr>\n",
       "  </tbody>\n",
       "</table>\n",
       "</div>"
      ],
      "text/plain": [
       "   id   age  gender   country diagnosis_date cancer_stage  \\\n",
       "0   1  64.0  Female  Slovakia     2016-04-07     Stage IV   \n",
       "1   2  50.0    Male  Slovenia     2023-04-22    Stage III   \n",
       "2   3  65.0    Male     Italy     2023-04-07     Stage II   \n",
       "3   4  51.0    Male    Latvia     2016-02-07      Stage I   \n",
       "4   5  37.0  Female     Spain     2023-12-01     Stage II   \n",
       "\n",
       "  beginning_of_treatment_date family_history  smoking_status   bmi  \\\n",
       "0                  2016-04-09             No   Former Smoker  21.2   \n",
       "1                  2023-05-05            Yes  Current Smoker  36.4   \n",
       "2                  2023-04-12            Yes   Former Smoker  18.9   \n",
       "3                  2016-03-08             No  Passive Smoker  38.8   \n",
       "4                  2023-12-04            Yes   Former Smoker  37.7   \n",
       "\n",
       "   cholesterol_level  hypertension  asthma  cirrhosis  other_cancer  \\\n",
       "0                191             0       0          0             0   \n",
       "1                258             1       0          0             0   \n",
       "2                174             1       0          1             0   \n",
       "3                279             1       0          0             0   \n",
       "4                273             0       0          0             0   \n",
       "\n",
       "  treatment_type end_treatment_date  survived  \n",
       "0        Surgery         2017-02-10         0  \n",
       "1   Chemotherapy         2024-08-23         0  \n",
       "2   Chemotherapy         2025-03-24         1  \n",
       "3       Combined         2017-03-01         0  \n",
       "4       Combined         2025-07-16         0  "
      ]
     },
     "execution_count": 14,
     "metadata": {},
     "output_type": "execute_result"
    }
   ],
   "source": [
    "data.head()"
   ]
  },
  {
   "cell_type": "code",
   "execution_count": 15,
   "id": "7b7caf93-a46f-4c81-9335-ec798e08c468",
   "metadata": {},
   "outputs": [
    {
     "data": {
      "text/plain": [
       "survived\n",
       "0    788\n",
       "1    212\n",
       "Name: count, dtype: int64"
      ]
     },
     "execution_count": 15,
     "metadata": {},
     "output_type": "execute_result"
    }
   ],
   "source": [
    "data['survived'].value_counts()"
   ]
  },
  {
   "cell_type": "markdown",
   "id": "c380003b-6a3b-46c7-b575-e21b0ad4a0a2",
   "metadata": {},
   "source": [
    "# Selecting features for models"
   ]
  },
  {
   "cell_type": "code",
   "execution_count": 16,
   "id": "15f915cc-7514-417d-ae43-f356d1427e6f",
   "metadata": {
    "scrolled": true
   },
   "outputs": [
    {
     "data": {
      "text/html": [
       "<div>\n",
       "<style scoped>\n",
       "    .dataframe tbody tr th:only-of-type {\n",
       "        vertical-align: middle;\n",
       "    }\n",
       "\n",
       "    .dataframe tbody tr th {\n",
       "        vertical-align: top;\n",
       "    }\n",
       "\n",
       "    .dataframe thead th {\n",
       "        text-align: right;\n",
       "    }\n",
       "</style>\n",
       "<table border=\"1\" class=\"dataframe\">\n",
       "  <thead>\n",
       "    <tr style=\"text-align: right;\">\n",
       "      <th></th>\n",
       "      <th>age</th>\n",
       "      <th>gender</th>\n",
       "      <th>cancer_stage</th>\n",
       "      <th>family_history</th>\n",
       "      <th>smoking_status</th>\n",
       "      <th>bmi</th>\n",
       "      <th>cholesterol_level</th>\n",
       "      <th>hypertension</th>\n",
       "      <th>asthma</th>\n",
       "      <th>cirrhosis</th>\n",
       "      <th>other_cancer</th>\n",
       "      <th>treatment_type</th>\n",
       "      <th>survived</th>\n",
       "    </tr>\n",
       "  </thead>\n",
       "  <tbody>\n",
       "    <tr>\n",
       "      <th>0</th>\n",
       "      <td>64</td>\n",
       "      <td>Female</td>\n",
       "      <td>Stage IV</td>\n",
       "      <td>No</td>\n",
       "      <td>Former Smoker</td>\n",
       "      <td>21.2</td>\n",
       "      <td>191</td>\n",
       "      <td>0</td>\n",
       "      <td>0</td>\n",
       "      <td>0</td>\n",
       "      <td>0</td>\n",
       "      <td>Surgery</td>\n",
       "      <td>0</td>\n",
       "    </tr>\n",
       "    <tr>\n",
       "      <th>1</th>\n",
       "      <td>50</td>\n",
       "      <td>Male</td>\n",
       "      <td>Stage III</td>\n",
       "      <td>Yes</td>\n",
       "      <td>Current Smoker</td>\n",
       "      <td>36.4</td>\n",
       "      <td>258</td>\n",
       "      <td>1</td>\n",
       "      <td>0</td>\n",
       "      <td>0</td>\n",
       "      <td>0</td>\n",
       "      <td>Chemotherapy</td>\n",
       "      <td>0</td>\n",
       "    </tr>\n",
       "    <tr>\n",
       "      <th>2</th>\n",
       "      <td>65</td>\n",
       "      <td>Male</td>\n",
       "      <td>Stage II</td>\n",
       "      <td>Yes</td>\n",
       "      <td>Former Smoker</td>\n",
       "      <td>18.9</td>\n",
       "      <td>174</td>\n",
       "      <td>1</td>\n",
       "      <td>0</td>\n",
       "      <td>1</td>\n",
       "      <td>0</td>\n",
       "      <td>Chemotherapy</td>\n",
       "      <td>1</td>\n",
       "    </tr>\n",
       "    <tr>\n",
       "      <th>3</th>\n",
       "      <td>51</td>\n",
       "      <td>Male</td>\n",
       "      <td>Stage I</td>\n",
       "      <td>No</td>\n",
       "      <td>Passive Smoker</td>\n",
       "      <td>38.8</td>\n",
       "      <td>279</td>\n",
       "      <td>1</td>\n",
       "      <td>0</td>\n",
       "      <td>0</td>\n",
       "      <td>0</td>\n",
       "      <td>Combined</td>\n",
       "      <td>0</td>\n",
       "    </tr>\n",
       "    <tr>\n",
       "      <th>4</th>\n",
       "      <td>37</td>\n",
       "      <td>Female</td>\n",
       "      <td>Stage II</td>\n",
       "      <td>Yes</td>\n",
       "      <td>Former Smoker</td>\n",
       "      <td>37.7</td>\n",
       "      <td>273</td>\n",
       "      <td>0</td>\n",
       "      <td>0</td>\n",
       "      <td>0</td>\n",
       "      <td>0</td>\n",
       "      <td>Combined</td>\n",
       "      <td>0</td>\n",
       "    </tr>\n",
       "  </tbody>\n",
       "</table>\n",
       "</div>"
      ],
      "text/plain": [
       "   age  gender cancer_stage family_history  smoking_status   bmi  \\\n",
       "0   64  Female     Stage IV             No   Former Smoker  21.2   \n",
       "1   50    Male    Stage III            Yes  Current Smoker  36.4   \n",
       "2   65    Male     Stage II            Yes   Former Smoker  18.9   \n",
       "3   51    Male      Stage I             No  Passive Smoker  38.8   \n",
       "4   37  Female     Stage II            Yes   Former Smoker  37.7   \n",
       "\n",
       "   cholesterol_level  hypertension  asthma  cirrhosis  other_cancer  \\\n",
       "0                191             0       0          0             0   \n",
       "1                258             1       0          0             0   \n",
       "2                174             1       0          1             0   \n",
       "3                279             1       0          0             0   \n",
       "4                273             0       0          0             0   \n",
       "\n",
       "  treatment_type  survived  \n",
       "0        Surgery         0  \n",
       "1   Chemotherapy         0  \n",
       "2   Chemotherapy         1  \n",
       "3       Combined         0  \n",
       "4       Combined         0  "
      ]
     },
     "execution_count": 16,
     "metadata": {},
     "output_type": "execute_result"
    }
   ],
   "source": [
    "# Delete the id\t and the salary column.\n",
    "data = data.drop([\"id\",\"diagnosis_date\",\"beginning_of_treatment_date\",\"end_treatment_date\",\"country\"], axis=1)\n",
    "\n",
    "# the following one for 'lung_cancer_mortality_data_for_machine_learning_project.csv' \n",
    "#data = data.drop([\"Unnamed: 0\",\"id\",\"diagnosis_date\",\"beginning_of_treatment_date\",\"end_treatment_date\"], axis=1)\n",
    "\n",
    "# change the data type int for age\n",
    "data['age'] = data['age'].astype(int)\n",
    "\n",
    "data.head()"
   ]
  },
  {
   "cell_type": "markdown",
   "id": "798f028d-f64f-4dc0-99d1-ece287cc65b3",
   "metadata": {},
   "source": [
    "# Encoding categorial variables (One-hot encoding)"
   ]
  },
  {
   "cell_type": "code",
   "execution_count": 17,
   "id": "0458a580-0093-4256-a573-21164701a754",
   "metadata": {},
   "outputs": [
    {
     "data": {
      "text/html": [
       "<div>\n",
       "<style scoped>\n",
       "    .dataframe tbody tr th:only-of-type {\n",
       "        vertical-align: middle;\n",
       "    }\n",
       "\n",
       "    .dataframe tbody tr th {\n",
       "        vertical-align: top;\n",
       "    }\n",
       "\n",
       "    .dataframe thead th {\n",
       "        text-align: right;\n",
       "    }\n",
       "</style>\n",
       "<table border=\"1\" class=\"dataframe\">\n",
       "  <thead>\n",
       "    <tr style=\"text-align: right;\">\n",
       "      <th></th>\n",
       "      <th>age</th>\n",
       "      <th>bmi</th>\n",
       "      <th>cholesterol_level</th>\n",
       "      <th>hypertension</th>\n",
       "      <th>asthma</th>\n",
       "      <th>cirrhosis</th>\n",
       "      <th>other_cancer</th>\n",
       "      <th>survived</th>\n",
       "      <th>gender = _Female</th>\n",
       "      <th>gender = _Male</th>\n",
       "      <th>...</th>\n",
       "      <th>family_history = _No</th>\n",
       "      <th>family_history = _Yes</th>\n",
       "      <th>smoking_status = _Current Smoker</th>\n",
       "      <th>smoking_status = _Former Smoker</th>\n",
       "      <th>smoking_status = _Never Smoked</th>\n",
       "      <th>smoking_status = _Passive Smoker</th>\n",
       "      <th>treatment_type = _Chemotherapy</th>\n",
       "      <th>treatment_type = _Combined</th>\n",
       "      <th>treatment_type = _Radiation</th>\n",
       "      <th>treatment_type = _Surgery</th>\n",
       "    </tr>\n",
       "  </thead>\n",
       "  <tbody>\n",
       "    <tr>\n",
       "      <th>0</th>\n",
       "      <td>64</td>\n",
       "      <td>21.2</td>\n",
       "      <td>191</td>\n",
       "      <td>0</td>\n",
       "      <td>0</td>\n",
       "      <td>0</td>\n",
       "      <td>0</td>\n",
       "      <td>0</td>\n",
       "      <td>True</td>\n",
       "      <td>False</td>\n",
       "      <td>...</td>\n",
       "      <td>True</td>\n",
       "      <td>False</td>\n",
       "      <td>False</td>\n",
       "      <td>True</td>\n",
       "      <td>False</td>\n",
       "      <td>False</td>\n",
       "      <td>False</td>\n",
       "      <td>False</td>\n",
       "      <td>False</td>\n",
       "      <td>True</td>\n",
       "    </tr>\n",
       "    <tr>\n",
       "      <th>1</th>\n",
       "      <td>50</td>\n",
       "      <td>36.4</td>\n",
       "      <td>258</td>\n",
       "      <td>1</td>\n",
       "      <td>0</td>\n",
       "      <td>0</td>\n",
       "      <td>0</td>\n",
       "      <td>0</td>\n",
       "      <td>False</td>\n",
       "      <td>True</td>\n",
       "      <td>...</td>\n",
       "      <td>False</td>\n",
       "      <td>True</td>\n",
       "      <td>True</td>\n",
       "      <td>False</td>\n",
       "      <td>False</td>\n",
       "      <td>False</td>\n",
       "      <td>True</td>\n",
       "      <td>False</td>\n",
       "      <td>False</td>\n",
       "      <td>False</td>\n",
       "    </tr>\n",
       "    <tr>\n",
       "      <th>2</th>\n",
       "      <td>65</td>\n",
       "      <td>18.9</td>\n",
       "      <td>174</td>\n",
       "      <td>1</td>\n",
       "      <td>0</td>\n",
       "      <td>1</td>\n",
       "      <td>0</td>\n",
       "      <td>1</td>\n",
       "      <td>False</td>\n",
       "      <td>True</td>\n",
       "      <td>...</td>\n",
       "      <td>False</td>\n",
       "      <td>True</td>\n",
       "      <td>False</td>\n",
       "      <td>True</td>\n",
       "      <td>False</td>\n",
       "      <td>False</td>\n",
       "      <td>True</td>\n",
       "      <td>False</td>\n",
       "      <td>False</td>\n",
       "      <td>False</td>\n",
       "    </tr>\n",
       "    <tr>\n",
       "      <th>3</th>\n",
       "      <td>51</td>\n",
       "      <td>38.8</td>\n",
       "      <td>279</td>\n",
       "      <td>1</td>\n",
       "      <td>0</td>\n",
       "      <td>0</td>\n",
       "      <td>0</td>\n",
       "      <td>0</td>\n",
       "      <td>False</td>\n",
       "      <td>True</td>\n",
       "      <td>...</td>\n",
       "      <td>True</td>\n",
       "      <td>False</td>\n",
       "      <td>False</td>\n",
       "      <td>False</td>\n",
       "      <td>False</td>\n",
       "      <td>True</td>\n",
       "      <td>False</td>\n",
       "      <td>True</td>\n",
       "      <td>False</td>\n",
       "      <td>False</td>\n",
       "    </tr>\n",
       "    <tr>\n",
       "      <th>4</th>\n",
       "      <td>37</td>\n",
       "      <td>37.7</td>\n",
       "      <td>273</td>\n",
       "      <td>0</td>\n",
       "      <td>0</td>\n",
       "      <td>0</td>\n",
       "      <td>0</td>\n",
       "      <td>0</td>\n",
       "      <td>True</td>\n",
       "      <td>False</td>\n",
       "      <td>...</td>\n",
       "      <td>False</td>\n",
       "      <td>True</td>\n",
       "      <td>False</td>\n",
       "      <td>True</td>\n",
       "      <td>False</td>\n",
       "      <td>False</td>\n",
       "      <td>False</td>\n",
       "      <td>True</td>\n",
       "      <td>False</td>\n",
       "      <td>False</td>\n",
       "    </tr>\n",
       "  </tbody>\n",
       "</table>\n",
       "<p>5 rows × 24 columns</p>\n",
       "</div>"
      ],
      "text/plain": [
       "   age   bmi  cholesterol_level  hypertension  asthma  cirrhosis  \\\n",
       "0   64  21.2                191             0       0          0   \n",
       "1   50  36.4                258             1       0          0   \n",
       "2   65  18.9                174             1       0          1   \n",
       "3   51  38.8                279             1       0          0   \n",
       "4   37  37.7                273             0       0          0   \n",
       "\n",
       "   other_cancer  survived  gender = _Female  gender = _Male  ...  \\\n",
       "0             0         0              True           False  ...   \n",
       "1             0         0             False            True  ...   \n",
       "2             0         1             False            True  ...   \n",
       "3             0         0             False            True  ...   \n",
       "4             0         0              True           False  ...   \n",
       "\n",
       "   family_history = _No  family_history = _Yes  \\\n",
       "0                  True                  False   \n",
       "1                 False                   True   \n",
       "2                 False                   True   \n",
       "3                  True                  False   \n",
       "4                 False                   True   \n",
       "\n",
       "   smoking_status = _Current Smoker  smoking_status = _Former Smoker  \\\n",
       "0                             False                             True   \n",
       "1                              True                            False   \n",
       "2                             False                             True   \n",
       "3                             False                            False   \n",
       "4                             False                             True   \n",
       "\n",
       "   smoking_status = _Never Smoked  smoking_status = _Passive Smoker  \\\n",
       "0                           False                             False   \n",
       "1                           False                             False   \n",
       "2                           False                             False   \n",
       "3                           False                              True   \n",
       "4                           False                             False   \n",
       "\n",
       "   treatment_type = _Chemotherapy  treatment_type = _Combined  \\\n",
       "0                           False                       False   \n",
       "1                            True                       False   \n",
       "2                            True                       False   \n",
       "3                           False                        True   \n",
       "4                           False                        True   \n",
       "\n",
       "   treatment_type = _Radiation  treatment_type = _Surgery  \n",
       "0                        False                       True  \n",
       "1                        False                      False  \n",
       "2                        False                      False  \n",
       "3                        False                      False  \n",
       "4                        False                      False  \n",
       "\n",
       "[5 rows x 24 columns]"
      ]
     },
     "execution_count": 17,
     "metadata": {},
     "output_type": "execute_result"
    }
   ],
   "source": [
    "# Transform the categorical variables into one-hot encoded variables, true/false or 0/1 \n",
    "# After this, no object type should appear in our dataset. Machine learning models do not handle features with object data typ\n",
    "\n",
    "def _transform_column_into_dummies(dataframe, name_of_column):\n",
    "    dummies = pd.get_dummies(dataframe[name_of_column], prefix=f\"{name_of_column} = \")\n",
    "    \n",
    "    dataframe = pd.concat([dataframe, dummies], axis=1)\n",
    "    \n",
    "    dataframe = dataframe.drop([name_of_column], axis=1)\n",
    "    \n",
    "    return dataframe\n",
    "for column in data.columns:\n",
    "    if data[column].dtype == object:\n",
    "        data = _transform_column_into_dummies(data, column)\n",
    "    \n",
    "data.head()"
   ]
  },
  {
   "cell_type": "markdown",
   "id": "170d9411-4c98-4681-8807-e35be219657d",
   "metadata": {},
   "source": [
    "### Select the target set"
   ]
  },
  {
   "cell_type": "code",
   "execution_count": 18,
   "id": "8ce450b8-08d3-46d2-9806-578fd981dc54",
   "metadata": {},
   "outputs": [],
   "source": [
    "# Generate a synthetic imbalanced dataset\n",
    "X = data.drop(\"survived\" , axis=1) \n",
    "y = data[\"survived\"]"
   ]
  },
  {
   "cell_type": "markdown",
   "id": "4c13e9cc-654f-4e5a-931d-28b653d2a5a9",
   "metadata": {},
   "source": [
    "### Perform a train/test split with test_size=0.2 (80/20 split) and a random_state of 42."
   ]
  },
  {
   "cell_type": "code",
   "execution_count": 19,
   "id": "908cd61c-4005-4ae2-8fe2-1ab3add184e2",
   "metadata": {},
   "outputs": [],
   "source": [
    "from sklearn.model_selection import train_test_split\n",
    "\n",
    "X_train, X_test, y_train, y_test = train_test_split(X, y, test_size=0.2, random_state=42)"
   ]
  },
  {
   "cell_type": "markdown",
   "id": "4ee1dd56-07c8-4b30-a421-59b78ba4f763",
   "metadata": {},
   "source": [
    "### Normalizing the Data\n",
    "#### Use a MinMaxScaler to normalize the feature data X_train and X_test. Recall we don't want data leakge from the test set so we only fit on the X_train data."
   ]
  },
  {
   "cell_type": "code",
   "execution_count": 20,
   "id": "c5abba9a-9c60-4d80-a80f-891ade35c270",
   "metadata": {},
   "outputs": [],
   "source": [
    "from sklearn.preprocessing import MinMaxScaler\n",
    "\n",
    "scaler = MinMaxScaler()\n",
    "\n",
    "X_train = scaler.fit_transform(X_train)\n",
    "#X_test = scaler.transform(X_test)\n",
    "X_test = scaler.fit_transform(X_test)"
   ]
  },
  {
   "cell_type": "markdown",
   "id": "dac6eba6-6655-4d95-9b7c-164daca9f0a2",
   "metadata": {},
   "source": [
    "### Apply SMoTE to the training set"
   ]
  },
  {
   "cell_type": "code",
   "execution_count": 21,
   "id": "2ede224a-de66-40cb-9308-9bec63a6a3fa",
   "metadata": {},
   "outputs": [],
   "source": [
    "# !pip install imbalanced-learn\n",
    "from sklearn.datasets import make_classification\n",
    "from sklearn.model_selection import train_test_split\n",
    "from imblearn.over_sampling import SMOTE\n",
    "from sklearn.metrics import classification_report"
   ]
  },
  {
   "cell_type": "code",
   "execution_count": 22,
   "id": "71f2e9b9-defe-471f-b2eb-35dabd661245",
   "metadata": {},
   "outputs": [
    {
     "name": "stdout",
     "output_type": "stream",
     "text": [
      "Original class distribution: [630 170]\n",
      "Resampled class distribution: [630 630]\n"
     ]
    }
   ],
   "source": [
    "# Check the distribution of the target variable in the training set\n",
    "print(\"Original class distribution:\", np.bincount(y_train))\n",
    "\n",
    "# Apply SMOTE to the training set\n",
    "smote = SMOTE(random_state=42)\n",
    "X_train_resampled, y_train_resampled = smote.fit_resample(X_train, y_train)\n",
    "\n",
    "# Check the distribution of the target variable after applying SMOTE\n",
    "print(\"Resampled class distribution:\", np.bincount(y_train_resampled))"
   ]
  },
  {
   "cell_type": "markdown",
   "id": "8956b2a5-d36b-4d05-a468-281294bea339",
   "metadata": {},
   "source": [
    "### Creating the models by using SMoTE "
   ]
  },
  {
   "cell_type": "markdown",
   "id": "1cc884a3-fbf4-4389-afa8-d6809b5ce660",
   "metadata": {},
   "source": [
    "### Logistic regression"
   ]
  },
  {
   "cell_type": "code",
   "execution_count": 23,
   "id": "b274f7d4-9fd3-4f1f-b01b-fd81508cfaf6",
   "metadata": {
    "scrolled": true
   },
   "outputs": [
    {
     "name": "stdout",
     "output_type": "stream",
     "text": [
      "              precision    recall  f1-score   support\n",
      "\n",
      "           0       0.79      0.61      0.69       158\n",
      "           1       0.22      0.40      0.28        42\n",
      "\n",
      "    accuracy                           0.56       200\n",
      "   macro avg       0.50      0.51      0.48       200\n",
      "weighted avg       0.67      0.56      0.60       200\n",
      "\n"
     ]
    }
   ],
   "source": [
    "from sklearn.linear_model import LogisticRegression\n",
    "\n",
    "# Train a model on the resampled dataset\n",
    "lr = LogisticRegression(random_state=42)\n",
    "lr.fit(X_train_resampled, y_train_resampled)\n",
    "#lr.fit(X_train, y_train)\n",
    "# Evaluate the model on the test set\n",
    "#y_pred = lr.predict(X_test)\n",
    "lr_predictions = lr.predict(X_test)\n",
    "print(classification_report(y_test, lr_predictions))"
   ]
  },
  {
   "cell_type": "code",
   "execution_count": 24,
   "id": "fa98a77f-1a23-45a4-a093-aa58092d47ce",
   "metadata": {},
   "outputs": [
    {
     "name": "stdout",
     "output_type": "stream",
     "text": [
      "Logistic Regression Accuracy Score: 0.565\n",
      "Logistic Regression F1-Score: 0.2809917355371901\n"
     ]
    }
   ],
   "source": [
    "from sklearn.metrics import recall_score, accuracy_score, f1_score\n",
    "lr_acc = accuracy_score(y_test, lr_predictions)\n",
    "print(f\"Logistic Regression Accuracy Score: {lr_acc}\")\n",
    "\n",
    "lr_acc = f1_score(y_test, lr_predictions)\n",
    "print(f\"Logistic Regression F1-Score: {lr_acc}\")"
   ]
  },
  {
   "cell_type": "code",
   "execution_count": 42,
   "id": "df8828a4-4549-46b9-9694-8ff45b6b950b",
   "metadata": {},
   "outputs": [],
   "source": [
    "#pred = lr.predict(X_test)\n",
    "#proba =lr.predict_proba(X_test)\n",
    "#print(f'predictions: {pred}, probabilities: {proba}')"
   ]
  },
  {
   "cell_type": "code",
   "execution_count": 41,
   "id": "1dbcf122-2676-4d87-9015-a5d05f0167fc",
   "metadata": {},
   "outputs": [],
   "source": [
    "#y_test.value_counts()"
   ]
  },
  {
   "cell_type": "code",
   "execution_count": 40,
   "id": "b1510a8a-88b5-421b-b80f-650aea1efaea",
   "metadata": {},
   "outputs": [],
   "source": [
    "#len(y_test)"
   ]
  },
  {
   "cell_type": "code",
   "execution_count": 39,
   "id": "24bc8255-7068-4dec-9a97-816d2bc4295c",
   "metadata": {},
   "outputs": [],
   "source": [
    "#y_train.value_counts()"
   ]
  },
  {
   "cell_type": "code",
   "execution_count": 215,
   "id": "d5062fb9-1957-465f-8ff7-9ce6d5f9c5ea",
   "metadata": {},
   "outputs": [],
   "source": [
    "#comparison_df = pd.DataFrame({'Actual': y_test, 'Predicted values':lr_predictions})\n",
    "#comparison_df"
   ]
  },
  {
   "cell_type": "markdown",
   "id": "2109c37a-f109-4f66-be0d-d5ebdf38339a",
   "metadata": {},
   "source": [
    "### Decision Tree"
   ]
  },
  {
   "cell_type": "code",
   "execution_count": 25,
   "id": "7acc7848-5271-422e-882e-ff186d7bde5b",
   "metadata": {},
   "outputs": [
    {
     "name": "stdout",
     "output_type": "stream",
     "text": [
      "              precision    recall  f1-score   support\n",
      "\n",
      "           0       0.81      0.68      0.74       158\n",
      "           1       0.24      0.38      0.30        42\n",
      "\n",
      "    accuracy                           0.62       200\n",
      "   macro avg       0.52      0.53      0.52       200\n",
      "weighted avg       0.69      0.62      0.65       200\n",
      "\n"
     ]
    }
   ],
   "source": [
    "from sklearn.tree import DecisionTreeClassifier\n",
    "\n",
    "# Train a model on the resampled dataset\n",
    "dt = DecisionTreeClassifier(random_state=42)\n",
    "dt.fit(X_train_resampled, y_train_resampled)\n",
    "\n",
    "# Evaluate the model on the test set\n",
    "dt_predictions = dt.predict(X_test)\n",
    "print(classification_report(y_test,dt_predictions ))"
   ]
  },
  {
   "cell_type": "markdown",
   "id": "b91af5b9-1436-44ef-a3b9-4c6681eb2cc4",
   "metadata": {},
   "source": [
    "### Random forest"
   ]
  },
  {
   "cell_type": "code",
   "execution_count": 26,
   "id": "768103cc-e42a-44e7-8584-e22f84044146",
   "metadata": {},
   "outputs": [
    {
     "name": "stdout",
     "output_type": "stream",
     "text": [
      "              precision    recall  f1-score   support\n",
      "\n",
      "           0       0.79      0.94      0.86       158\n",
      "           1       0.23      0.07      0.11        42\n",
      "\n",
      "    accuracy                           0.76       200\n",
      "   macro avg       0.51      0.50      0.48       200\n",
      "weighted avg       0.67      0.76      0.70       200\n",
      "\n"
     ]
    }
   ],
   "source": [
    "from sklearn.ensemble import RandomForestClassifier\n",
    "\n",
    "# Train a model on the resampled dataset\n",
    "rf = RandomForestClassifier(random_state=42)\n",
    "rf.fit(X_train_resampled, y_train_resampled)\n",
    "#rf.fit(X_train, y_train)\n",
    "\n",
    "# Evaluate the model on the test set\n",
    "rf_predictions = rf.predict(X_test)\n",
    "print(classification_report(y_test, rf_predictions ))"
   ]
  },
  {
   "cell_type": "code",
   "execution_count": 27,
   "id": "304d891e-be6a-4b6c-8cf3-46080695150d",
   "metadata": {},
   "outputs": [
    {
     "name": "stdout",
     "output_type": "stream",
     "text": [
      "Random Forest Precision Score: 0.23076923076923078\n"
     ]
    }
   ],
   "source": [
    "from sklearn.metrics import precision_score\n",
    "precision_rf = precision_score(y_test, rf_predictions)\n",
    "print(f\"Random Forest Precision Score: {precision_rf}\")"
   ]
  },
  {
   "cell_type": "code",
   "execution_count": 28,
   "id": "f446739a-bfad-4aaf-b144-71cf485de5e0",
   "metadata": {},
   "outputs": [
    {
     "name": "stdout",
     "output_type": "stream",
     "text": [
      "Random Forest recall Score: 0.07142857142857142\n"
     ]
    }
   ],
   "source": [
    "from sklearn.metrics import recall_score\n",
    "recall_rf = recall_score(y_test, rf_predictions)\n",
    "print(f\"Random Forest recall Score: {recall_rf}\")"
   ]
  },
  {
   "cell_type": "markdown",
   "id": "7f5c9876-8c17-4de3-a5dd-5cc11bc56ae4",
   "metadata": {},
   "source": [
    "### Check the importance of features"
   ]
  },
  {
   "cell_type": "code",
   "execution_count": 30,
   "id": "13b0446f-017d-4812-9ce3-d5c558542fe9",
   "metadata": {},
   "outputs": [],
   "source": [
    "feature_importances = pd.DataFrame(\n",
    "    rf.feature_importances_, \n",
    "    index =X.columns,  \n",
    "    columns=['importance']\n",
    ").sort_values('importance', ascending=False)\n",
    "#feature_importances"
   ]
  },
  {
   "cell_type": "code",
   "execution_count": 1,
   "id": "2747eb39-0539-4c56-a8d8-d9fc8b54e73a",
   "metadata": {},
   "outputs": [],
   "source": [
    "# Extra: For the random forest model, plot the feature importance for each of the variables.\n",
    "feat_importances = pd.DataFrame()\n",
    "feat_importances[\"column name\"] = feature_importances.index[0:23]\n",
    "feat_importances[\"importance\"] =feature_importances.values[0:23]\n",
    "#feat_importances[\"importance\"] = sorted(rf.feature_importances_)\n",
    "\n",
    "import seaborn as sns\n",
    "\n",
    "sns.barplot(\n",
    "    data = feat_importances,\n",
    "    y = \"column name\",\n",
    "    x = \"importance\",\n",
    "    orient = \"h\"\n",
    ")"
   ]
  },
  {
   "cell_type": "markdown",
   "id": "b038e5b6-4a31-4745-93b7-928537d71d00",
   "metadata": {},
   "source": [
    "### Use the metric Accuracy and f1_score for above 3 algorithms"
   ]
  },
  {
   "cell_type": "code",
   "execution_count": 36,
   "id": "e4403196-722c-47ee-9d2e-58fb553484ff",
   "metadata": {},
   "outputs": [
    {
     "name": "stdout",
     "output_type": "stream",
     "text": [
      "Logistic Regression Accuracy Score: 0.565\n",
      "Decision Tree Accuracy Score: 0.62\n",
      "Random Forest Accuracy Score: 0.755 \n",
      "\n",
      "Logistic Regression F1-Score: 0.2809917355371901\n",
      "Decision Tree F1-Score: 0.2962962962962963\n",
      "Random Forest F1-Score: 0.10909090909090909\n"
     ]
    }
   ],
   "source": [
    "from sklearn.metrics import f1_score, accuracy_score \n",
    "\n",
    "# Accuracy measure\n",
    "lr_acc = accuracy_score(y_test, lr_predictions)\n",
    "print(f\"Logistic Regression Accuracy Score: {lr_acc}\")\n",
    "\n",
    "dt_acc = accuracy_score(y_test, dt_predictions)\n",
    "print(f\"Decision Tree Accuracy Score: {dt_acc}\")\n",
    "\n",
    "rf_acc = accuracy_score(y_test, rf_predictions)\n",
    "print(f\"Random Forest Accuracy Score: {rf_acc} \\n\")\n",
    "\n",
    "# F1-score\n",
    "lr_acc = f1_score(y_test, lr_predictions)\n",
    "print(f\"Logistic Regression F1-Score: {lr_acc}\")\n",
    "\n",
    "dt_acc = f1_score(y_test, dt_predictions)\n",
    "print(f\"Decision Tree F1-Score: {dt_acc}\")\n",
    "\n",
    "rf_acc = f1_score(y_test, rf_predictions)\n",
    "print(f\"Random Forest F1-Score: {rf_acc}\")"
   ]
  },
  {
   "cell_type": "markdown",
   "id": "c18ba82f-8c1c-4650-ba20-e16d295bedcb",
   "metadata": {},
   "source": [
    "### 5-fold cross validation to compute the averaged score for each of the above three models"
   ]
  },
  {
   "cell_type": "code",
   "execution_count": 31,
   "id": "2909fe67-0713-406a-b846-5ec96d2e11c4",
   "metadata": {},
   "outputs": [],
   "source": [
    "# Using 5-fold cross validation, compute the averaged score for each of the three models.\n",
    "# Reference this for the scoring hyperparameter: https://scikit-learn.org/stable/modules/model_evaluation.html\n",
    "# Note: When defining the KFold, please use a random state of 42!\n",
    "from sklearn.model_selection import KFold\n",
    "\n",
    "num_folds = 5\n",
    "random_state = 42\n",
    "\n",
    "kfold = KFold(\n",
    "    n_splits=num_folds,\n",
    "    random_state=random_state,\n",
    "    shuffle=True\n",
    ")"
   ]
  },
  {
   "cell_type": "code",
   "execution_count": 32,
   "id": "124f8e98-55bd-413a-9e8f-de5bfe2b6082",
   "metadata": {},
   "outputs": [
    {
     "name": "stderr",
     "output_type": "stream",
     "text": [
      "C:\\Users\\Rabia Afzal\\anaconda3\\Lib\\site-packages\\sklearn\\linear_model\\_logistic.py:469: ConvergenceWarning: lbfgs failed to converge (status=1):\n",
      "STOP: TOTAL NO. of ITERATIONS REACHED LIMIT.\n",
      "\n",
      "Increase the number of iterations (max_iter) or scale the data as shown in:\n",
      "    https://scikit-learn.org/stable/modules/preprocessing.html\n",
      "Please also refer to the documentation for alternative solver options:\n",
      "    https://scikit-learn.org/stable/modules/linear_model.html#logistic-regression\n",
      "  n_iter_i = _check_optimize_result(\n",
      "C:\\Users\\Rabia Afzal\\anaconda3\\Lib\\site-packages\\sklearn\\linear_model\\_logistic.py:469: ConvergenceWarning: lbfgs failed to converge (status=1):\n",
      "STOP: TOTAL NO. of ITERATIONS REACHED LIMIT.\n",
      "\n",
      "Increase the number of iterations (max_iter) or scale the data as shown in:\n",
      "    https://scikit-learn.org/stable/modules/preprocessing.html\n",
      "Please also refer to the documentation for alternative solver options:\n",
      "    https://scikit-learn.org/stable/modules/linear_model.html#logistic-regression\n",
      "  n_iter_i = _check_optimize_result(\n",
      "C:\\Users\\Rabia Afzal\\anaconda3\\Lib\\site-packages\\sklearn\\linear_model\\_logistic.py:469: ConvergenceWarning: lbfgs failed to converge (status=1):\n",
      "STOP: TOTAL NO. of ITERATIONS REACHED LIMIT.\n",
      "\n",
      "Increase the number of iterations (max_iter) or scale the data as shown in:\n",
      "    https://scikit-learn.org/stable/modules/preprocessing.html\n",
      "Please also refer to the documentation for alternative solver options:\n",
      "    https://scikit-learn.org/stable/modules/linear_model.html#logistic-regression\n",
      "  n_iter_i = _check_optimize_result(\n",
      "C:\\Users\\Rabia Afzal\\anaconda3\\Lib\\site-packages\\sklearn\\linear_model\\_logistic.py:469: ConvergenceWarning: lbfgs failed to converge (status=1):\n",
      "STOP: TOTAL NO. of ITERATIONS REACHED LIMIT.\n",
      "\n",
      "Increase the number of iterations (max_iter) or scale the data as shown in:\n",
      "    https://scikit-learn.org/stable/modules/preprocessing.html\n",
      "Please also refer to the documentation for alternative solver options:\n",
      "    https://scikit-learn.org/stable/modules/linear_model.html#logistic-regression\n",
      "  n_iter_i = _check_optimize_result(\n",
      "C:\\Users\\Rabia Afzal\\anaconda3\\Lib\\site-packages\\sklearn\\linear_model\\_logistic.py:469: ConvergenceWarning: lbfgs failed to converge (status=1):\n",
      "STOP: TOTAL NO. of ITERATIONS REACHED LIMIT.\n",
      "\n",
      "Increase the number of iterations (max_iter) or scale the data as shown in:\n",
      "    https://scikit-learn.org/stable/modules/preprocessing.html\n",
      "Please also refer to the documentation for alternative solver options:\n",
      "    https://scikit-learn.org/stable/modules/linear_model.html#logistic-regression\n",
      "  n_iter_i = _check_optimize_result(\n"
     ]
    },
    {
     "name": "stdout",
     "output_type": "stream",
     "text": [
      " F1-score for Logistic regression model:[0. 0. 0. 0. 0.]\n",
      " F1-score for Decision tree:[0.26262626 0.11363636 0.13636364 0.26666667 0.2195122 ]\n",
      " F1-score for Random Forest :[0.13043478 0.09090909 0.         0.125      0.1       ]\n",
      " Average F1-score for Logistic regression model:0.0\n",
      " Average F1-score for Decision tree:0.19976102488297612\n",
      " Average F1-score for Random Forest :0.08926877470355732\n"
     ]
    }
   ],
   "source": [
    "from sklearn.model_selection import cross_val_score\n",
    "\n",
    "results_Ir = cross_val_score(\n",
    "    lr, X, y,\n",
    "    cv=kfold,\n",
    "    scoring=\"f1\"\n",
    ")\n",
    "\n",
    "results_dt = cross_val_score(\n",
    "    dt, X, y,\n",
    "    cv=kfold,\n",
    "    scoring=\"f1\"\n",
    ")\n",
    "\n",
    "results_rf = cross_val_score(\n",
    "    rf, X, y,\n",
    "    cv=kfold,\n",
    "    scoring=\"f1\"\n",
    ")\n",
    "\n",
    "print(f\" F1-score for Logistic regression model:{results_Ir}\")\n",
    "print(f\" F1-score for Decision tree:{results_dt}\")\n",
    "print(f\" F1-score for Random Forest :{results_rf}\")\n",
    "print(f\" Average F1-score for Logistic regression model:{results_Ir.mean()}\")\n",
    "print(f\" Average F1-score for Decision tree:{results_dt.mean()}\")\n",
    "print(f\" Average F1-score for Random Forest :{results_rf.mean()}\")"
   ]
  },
  {
   "cell_type": "markdown",
   "id": "d53c7e7a-ba90-4c8e-9c95-775f9dbcdcc5",
   "metadata": {},
   "source": [
    "## Machine learning models"
   ]
  },
  {
   "cell_type": "code",
   "execution_count": 1,
   "id": "effc5401-a56b-4d1d-8e0c-e33aed7cb599",
   "metadata": {},
   "outputs": [],
   "source": [
    "import matplotlib.pyplot as plt\n",
    "import numpy as np\n",
    "import pandas as pd\n",
    "import seaborn as sns\n",
    "import warnings\n",
    "import os\n",
    "from datetime import datetime\n",
    "from datetime import date"
   ]
  },
  {
   "cell_type": "code",
   "execution_count": 2,
   "id": "474af86c-db44-4c76-b794-4bdf32a5d8ae",
   "metadata": {
    "scrolled": true
   },
   "outputs": [
    {
     "data": {
      "text/html": [
       "<div>\n",
       "<style scoped>\n",
       "    .dataframe tbody tr th:only-of-type {\n",
       "        vertical-align: middle;\n",
       "    }\n",
       "\n",
       "    .dataframe tbody tr th {\n",
       "        vertical-align: top;\n",
       "    }\n",
       "\n",
       "    .dataframe thead th {\n",
       "        text-align: right;\n",
       "    }\n",
       "</style>\n",
       "<table border=\"1\" class=\"dataframe\">\n",
       "  <thead>\n",
       "    <tr style=\"text-align: right;\">\n",
       "      <th></th>\n",
       "      <th>id</th>\n",
       "      <th>age</th>\n",
       "      <th>gender</th>\n",
       "      <th>country</th>\n",
       "      <th>diagnosis_date</th>\n",
       "      <th>cancer_stage</th>\n",
       "      <th>beginning_of_treatment_date</th>\n",
       "      <th>family_history</th>\n",
       "      <th>smoking_status</th>\n",
       "      <th>bmi</th>\n",
       "      <th>cholesterol_level</th>\n",
       "      <th>hypertension</th>\n",
       "      <th>asthma</th>\n",
       "      <th>cirrhosis</th>\n",
       "      <th>other_cancer</th>\n",
       "      <th>treatment_type</th>\n",
       "      <th>end_treatment_date</th>\n",
       "      <th>survived</th>\n",
       "    </tr>\n",
       "  </thead>\n",
       "  <tbody>\n",
       "    <tr>\n",
       "      <th>0</th>\n",
       "      <td>2279821</td>\n",
       "      <td>49</td>\n",
       "      <td>Female</td>\n",
       "      <td>Lithuania</td>\n",
       "      <td>01/06/2018</td>\n",
       "      <td>Stage IV</td>\n",
       "      <td>08/06/2018</td>\n",
       "      <td>Yes</td>\n",
       "      <td>Never Smoked</td>\n",
       "      <td>22.0</td>\n",
       "      <td>185</td>\n",
       "      <td>1</td>\n",
       "      <td>0</td>\n",
       "      <td>0</td>\n",
       "      <td>0</td>\n",
       "      <td>Surgery</td>\n",
       "      <td>02/07/2019</td>\n",
       "      <td>0</td>\n",
       "    </tr>\n",
       "    <tr>\n",
       "      <th>1</th>\n",
       "      <td>668812</td>\n",
       "      <td>49</td>\n",
       "      <td>Male</td>\n",
       "      <td>Slovakia</td>\n",
       "      <td>18/03/2021</td>\n",
       "      <td>Stage I</td>\n",
       "      <td>03/04/2021</td>\n",
       "      <td>No</td>\n",
       "      <td>Passive Smoker</td>\n",
       "      <td>16.1</td>\n",
       "      <td>232</td>\n",
       "      <td>1</td>\n",
       "      <td>0</td>\n",
       "      <td>1</td>\n",
       "      <td>0</td>\n",
       "      <td>Surgery</td>\n",
       "      <td>22/01/2023</td>\n",
       "      <td>0</td>\n",
       "    </tr>\n",
       "    <tr>\n",
       "      <th>2</th>\n",
       "      <td>2512900</td>\n",
       "      <td>54</td>\n",
       "      <td>Female</td>\n",
       "      <td>Luxembourg</td>\n",
       "      <td>25/09/2022</td>\n",
       "      <td>Stage IV</td>\n",
       "      <td>26/09/2022</td>\n",
       "      <td>Yes</td>\n",
       "      <td>Former Smoker</td>\n",
       "      <td>23.4</td>\n",
       "      <td>198</td>\n",
       "      <td>1</td>\n",
       "      <td>0</td>\n",
       "      <td>1</td>\n",
       "      <td>0</td>\n",
       "      <td>Radiation</td>\n",
       "      <td>13/11/2023</td>\n",
       "      <td>0</td>\n",
       "    </tr>\n",
       "    <tr>\n",
       "      <th>3</th>\n",
       "      <td>499674</td>\n",
       "      <td>61</td>\n",
       "      <td>Female</td>\n",
       "      <td>Poland</td>\n",
       "      <td>20/10/2014</td>\n",
       "      <td>Stage I</td>\n",
       "      <td>05/11/2014</td>\n",
       "      <td>Yes</td>\n",
       "      <td>Former Smoker</td>\n",
       "      <td>42.4</td>\n",
       "      <td>249</td>\n",
       "      <td>1</td>\n",
       "      <td>0</td>\n",
       "      <td>0</td>\n",
       "      <td>0</td>\n",
       "      <td>Combined</td>\n",
       "      <td>31/08/2016</td>\n",
       "      <td>0</td>\n",
       "    </tr>\n",
       "    <tr>\n",
       "      <th>4</th>\n",
       "      <td>892205</td>\n",
       "      <td>68</td>\n",
       "      <td>Male</td>\n",
       "      <td>Portugal</td>\n",
       "      <td>05/11/2022</td>\n",
       "      <td>Stage III</td>\n",
       "      <td>08/11/2022</td>\n",
       "      <td>No</td>\n",
       "      <td>Never Smoked</td>\n",
       "      <td>37.7</td>\n",
       "      <td>242</td>\n",
       "      <td>1</td>\n",
       "      <td>0</td>\n",
       "      <td>1</td>\n",
       "      <td>0</td>\n",
       "      <td>Radiation</td>\n",
       "      <td>20/12/2023</td>\n",
       "      <td>1</td>\n",
       "    </tr>\n",
       "  </tbody>\n",
       "</table>\n",
       "</div>"
      ],
      "text/plain": [
       "        id  age  gender     country diagnosis_date cancer_stage  \\\n",
       "0  2279821   49  Female   Lithuania     01/06/2018     Stage IV   \n",
       "1   668812   49    Male    Slovakia     18/03/2021      Stage I   \n",
       "2  2512900   54  Female  Luxembourg     25/09/2022     Stage IV   \n",
       "3   499674   61  Female      Poland     20/10/2014      Stage I   \n",
       "4   892205   68    Male    Portugal     05/11/2022    Stage III   \n",
       "\n",
       "  beginning_of_treatment_date family_history  smoking_status   bmi  \\\n",
       "0                  08/06/2018            Yes    Never Smoked  22.0   \n",
       "1                  03/04/2021             No  Passive Smoker  16.1   \n",
       "2                  26/09/2022            Yes   Former Smoker  23.4   \n",
       "3                  05/11/2014            Yes   Former Smoker  42.4   \n",
       "4                  08/11/2022             No    Never Smoked  37.7   \n",
       "\n",
       "   cholesterol_level  hypertension  asthma  cirrhosis  other_cancer  \\\n",
       "0                185             1       0          0             0   \n",
       "1                232             1       0          1             0   \n",
       "2                198             1       0          1             0   \n",
       "3                249             1       0          0             0   \n",
       "4                242             1       0          1             0   \n",
       "\n",
       "  treatment_type end_treatment_date  survived  \n",
       "0        Surgery         02/07/2019         0  \n",
       "1        Surgery         22/01/2023         0  \n",
       "2      Radiation         13/11/2023         0  \n",
       "3       Combined         31/08/2016         0  \n",
       "4      Radiation         20/12/2023         1  "
      ]
     },
     "execution_count": 2,
     "metadata": {},
     "output_type": "execute_result"
    }
   ],
   "source": [
    "#data_1 = pd.read_csv('lung_cancer_mortality_data_large_v2.csv') # the large data set\n",
    "#data = data_1.sample(n = 8000 , random_state = 42)\n",
    "#data  =  pd.read_csv('lung_cancer_mortality_data_test_v2.csv')\n",
    "data = pd.read_csv('lung_cancer_mortality_sample_new.csv')\n",
    "data.head()"
   ]
  },
  {
   "cell_type": "code",
   "execution_count": 3,
   "id": "7a439f45-a309-41a0-853a-e207bf5d2511",
   "metadata": {},
   "outputs": [
    {
     "data": {
      "text/plain": [
       "(162500, 18)"
      ]
     },
     "execution_count": 3,
     "metadata": {},
     "output_type": "execute_result"
    }
   ],
   "source": [
    "data.shape"
   ]
  },
  {
   "cell_type": "code",
   "execution_count": 4,
   "id": "18c75c52-efe9-426b-9037-df228f561413",
   "metadata": {},
   "outputs": [
    {
     "data": {
      "text/html": [
       "<div>\n",
       "<style scoped>\n",
       "    .dataframe tbody tr th:only-of-type {\n",
       "        vertical-align: middle;\n",
       "    }\n",
       "\n",
       "    .dataframe tbody tr th {\n",
       "        vertical-align: top;\n",
       "    }\n",
       "\n",
       "    .dataframe thead th {\n",
       "        text-align: right;\n",
       "    }\n",
       "</style>\n",
       "<table border=\"1\" class=\"dataframe\">\n",
       "  <thead>\n",
       "    <tr style=\"text-align: right;\">\n",
       "      <th></th>\n",
       "      <th>age</th>\n",
       "      <th>gender</th>\n",
       "      <th>cancer_stage</th>\n",
       "      <th>family_history</th>\n",
       "      <th>smoking_status</th>\n",
       "      <th>bmi</th>\n",
       "      <th>cholesterol_level</th>\n",
       "      <th>hypertension</th>\n",
       "      <th>asthma</th>\n",
       "      <th>cirrhosis</th>\n",
       "      <th>other_cancer</th>\n",
       "      <th>treatment_type</th>\n",
       "      <th>survived</th>\n",
       "    </tr>\n",
       "  </thead>\n",
       "  <tbody>\n",
       "    <tr>\n",
       "      <th>0</th>\n",
       "      <td>49</td>\n",
       "      <td>Female</td>\n",
       "      <td>Stage IV</td>\n",
       "      <td>Yes</td>\n",
       "      <td>Never Smoked</td>\n",
       "      <td>22.0</td>\n",
       "      <td>185</td>\n",
       "      <td>1</td>\n",
       "      <td>0</td>\n",
       "      <td>0</td>\n",
       "      <td>0</td>\n",
       "      <td>Surgery</td>\n",
       "      <td>0</td>\n",
       "    </tr>\n",
       "    <tr>\n",
       "      <th>1</th>\n",
       "      <td>49</td>\n",
       "      <td>Male</td>\n",
       "      <td>Stage I</td>\n",
       "      <td>No</td>\n",
       "      <td>Passive Smoker</td>\n",
       "      <td>16.1</td>\n",
       "      <td>232</td>\n",
       "      <td>1</td>\n",
       "      <td>0</td>\n",
       "      <td>1</td>\n",
       "      <td>0</td>\n",
       "      <td>Surgery</td>\n",
       "      <td>0</td>\n",
       "    </tr>\n",
       "    <tr>\n",
       "      <th>2</th>\n",
       "      <td>54</td>\n",
       "      <td>Female</td>\n",
       "      <td>Stage IV</td>\n",
       "      <td>Yes</td>\n",
       "      <td>Former Smoker</td>\n",
       "      <td>23.4</td>\n",
       "      <td>198</td>\n",
       "      <td>1</td>\n",
       "      <td>0</td>\n",
       "      <td>1</td>\n",
       "      <td>0</td>\n",
       "      <td>Radiation</td>\n",
       "      <td>0</td>\n",
       "    </tr>\n",
       "    <tr>\n",
       "      <th>3</th>\n",
       "      <td>61</td>\n",
       "      <td>Female</td>\n",
       "      <td>Stage I</td>\n",
       "      <td>Yes</td>\n",
       "      <td>Former Smoker</td>\n",
       "      <td>42.4</td>\n",
       "      <td>249</td>\n",
       "      <td>1</td>\n",
       "      <td>0</td>\n",
       "      <td>0</td>\n",
       "      <td>0</td>\n",
       "      <td>Combined</td>\n",
       "      <td>0</td>\n",
       "    </tr>\n",
       "    <tr>\n",
       "      <th>4</th>\n",
       "      <td>68</td>\n",
       "      <td>Male</td>\n",
       "      <td>Stage III</td>\n",
       "      <td>No</td>\n",
       "      <td>Never Smoked</td>\n",
       "      <td>37.7</td>\n",
       "      <td>242</td>\n",
       "      <td>1</td>\n",
       "      <td>0</td>\n",
       "      <td>1</td>\n",
       "      <td>0</td>\n",
       "      <td>Radiation</td>\n",
       "      <td>1</td>\n",
       "    </tr>\n",
       "  </tbody>\n",
       "</table>\n",
       "</div>"
      ],
      "text/plain": [
       "   age  gender cancer_stage family_history  smoking_status   bmi  \\\n",
       "0   49  Female     Stage IV            Yes    Never Smoked  22.0   \n",
       "1   49    Male      Stage I             No  Passive Smoker  16.1   \n",
       "2   54  Female     Stage IV            Yes   Former Smoker  23.4   \n",
       "3   61  Female      Stage I            Yes   Former Smoker  42.4   \n",
       "4   68    Male    Stage III             No    Never Smoked  37.7   \n",
       "\n",
       "   cholesterol_level  hypertension  asthma  cirrhosis  other_cancer  \\\n",
       "0                185             1       0          0             0   \n",
       "1                232             1       0          1             0   \n",
       "2                198             1       0          1             0   \n",
       "3                249             1       0          0             0   \n",
       "4                242             1       0          1             0   \n",
       "\n",
       "  treatment_type  survived  \n",
       "0        Surgery         0  \n",
       "1        Surgery         0  \n",
       "2      Radiation         0  \n",
       "3       Combined         0  \n",
       "4      Radiation         1  "
      ]
     },
     "execution_count": 4,
     "metadata": {},
     "output_type": "execute_result"
    }
   ],
   "source": [
    "# selection of features\n",
    "\n",
    "# Delete the id\t and the salary column.\n",
    "data = data.drop([\"id\",\"diagnosis_date\",\"beginning_of_treatment_date\",\"end_treatment_date\",\"country\"], axis=1)\n",
    "\n",
    "# the following one for 'lung_cancer_mortality_data_for_machine_learning_project.csv' \n",
    "#data = data.drop([\"Unnamed: 0\",\"id\",\"diagnosis_date\",\"beginning_of_treatment_date\",\"end_treatment_date\"], axis=1)\n",
    "\n",
    "# change the data type int for age\n",
    "data['age'] = data['age'].astype(int)\n",
    "\n",
    "data.head()"
   ]
  },
  {
   "cell_type": "code",
   "execution_count": 5,
   "id": "7238aa04-1f8c-4ab4-9747-015a1656a962",
   "metadata": {
    "scrolled": true
   },
   "outputs": [
    {
     "data": {
      "text/html": [
       "<div>\n",
       "<style scoped>\n",
       "    .dataframe tbody tr th:only-of-type {\n",
       "        vertical-align: middle;\n",
       "    }\n",
       "\n",
       "    .dataframe tbody tr th {\n",
       "        vertical-align: top;\n",
       "    }\n",
       "\n",
       "    .dataframe thead th {\n",
       "        text-align: right;\n",
       "    }\n",
       "</style>\n",
       "<table border=\"1\" class=\"dataframe\">\n",
       "  <thead>\n",
       "    <tr style=\"text-align: right;\">\n",
       "      <th></th>\n",
       "      <th>age</th>\n",
       "      <th>bmi</th>\n",
       "      <th>cholesterol_level</th>\n",
       "      <th>hypertension</th>\n",
       "      <th>asthma</th>\n",
       "      <th>cirrhosis</th>\n",
       "      <th>other_cancer</th>\n",
       "      <th>survived</th>\n",
       "      <th>gender = _Female</th>\n",
       "      <th>gender = _Male</th>\n",
       "      <th>...</th>\n",
       "      <th>family_history = _No</th>\n",
       "      <th>family_history = _Yes</th>\n",
       "      <th>smoking_status = _Current Smoker</th>\n",
       "      <th>smoking_status = _Former Smoker</th>\n",
       "      <th>smoking_status = _Never Smoked</th>\n",
       "      <th>smoking_status = _Passive Smoker</th>\n",
       "      <th>treatment_type = _Chemotherapy</th>\n",
       "      <th>treatment_type = _Combined</th>\n",
       "      <th>treatment_type = _Radiation</th>\n",
       "      <th>treatment_type = _Surgery</th>\n",
       "    </tr>\n",
       "  </thead>\n",
       "  <tbody>\n",
       "    <tr>\n",
       "      <th>0</th>\n",
       "      <td>49</td>\n",
       "      <td>22.0</td>\n",
       "      <td>185</td>\n",
       "      <td>1</td>\n",
       "      <td>0</td>\n",
       "      <td>0</td>\n",
       "      <td>0</td>\n",
       "      <td>0</td>\n",
       "      <td>True</td>\n",
       "      <td>False</td>\n",
       "      <td>...</td>\n",
       "      <td>False</td>\n",
       "      <td>True</td>\n",
       "      <td>False</td>\n",
       "      <td>False</td>\n",
       "      <td>True</td>\n",
       "      <td>False</td>\n",
       "      <td>False</td>\n",
       "      <td>False</td>\n",
       "      <td>False</td>\n",
       "      <td>True</td>\n",
       "    </tr>\n",
       "    <tr>\n",
       "      <th>1</th>\n",
       "      <td>49</td>\n",
       "      <td>16.1</td>\n",
       "      <td>232</td>\n",
       "      <td>1</td>\n",
       "      <td>0</td>\n",
       "      <td>1</td>\n",
       "      <td>0</td>\n",
       "      <td>0</td>\n",
       "      <td>False</td>\n",
       "      <td>True</td>\n",
       "      <td>...</td>\n",
       "      <td>True</td>\n",
       "      <td>False</td>\n",
       "      <td>False</td>\n",
       "      <td>False</td>\n",
       "      <td>False</td>\n",
       "      <td>True</td>\n",
       "      <td>False</td>\n",
       "      <td>False</td>\n",
       "      <td>False</td>\n",
       "      <td>True</td>\n",
       "    </tr>\n",
       "    <tr>\n",
       "      <th>2</th>\n",
       "      <td>54</td>\n",
       "      <td>23.4</td>\n",
       "      <td>198</td>\n",
       "      <td>1</td>\n",
       "      <td>0</td>\n",
       "      <td>1</td>\n",
       "      <td>0</td>\n",
       "      <td>0</td>\n",
       "      <td>True</td>\n",
       "      <td>False</td>\n",
       "      <td>...</td>\n",
       "      <td>False</td>\n",
       "      <td>True</td>\n",
       "      <td>False</td>\n",
       "      <td>True</td>\n",
       "      <td>False</td>\n",
       "      <td>False</td>\n",
       "      <td>False</td>\n",
       "      <td>False</td>\n",
       "      <td>True</td>\n",
       "      <td>False</td>\n",
       "    </tr>\n",
       "    <tr>\n",
       "      <th>3</th>\n",
       "      <td>61</td>\n",
       "      <td>42.4</td>\n",
       "      <td>249</td>\n",
       "      <td>1</td>\n",
       "      <td>0</td>\n",
       "      <td>0</td>\n",
       "      <td>0</td>\n",
       "      <td>0</td>\n",
       "      <td>True</td>\n",
       "      <td>False</td>\n",
       "      <td>...</td>\n",
       "      <td>False</td>\n",
       "      <td>True</td>\n",
       "      <td>False</td>\n",
       "      <td>True</td>\n",
       "      <td>False</td>\n",
       "      <td>False</td>\n",
       "      <td>False</td>\n",
       "      <td>True</td>\n",
       "      <td>False</td>\n",
       "      <td>False</td>\n",
       "    </tr>\n",
       "    <tr>\n",
       "      <th>4</th>\n",
       "      <td>68</td>\n",
       "      <td>37.7</td>\n",
       "      <td>242</td>\n",
       "      <td>1</td>\n",
       "      <td>0</td>\n",
       "      <td>1</td>\n",
       "      <td>0</td>\n",
       "      <td>1</td>\n",
       "      <td>False</td>\n",
       "      <td>True</td>\n",
       "      <td>...</td>\n",
       "      <td>True</td>\n",
       "      <td>False</td>\n",
       "      <td>False</td>\n",
       "      <td>False</td>\n",
       "      <td>True</td>\n",
       "      <td>False</td>\n",
       "      <td>False</td>\n",
       "      <td>False</td>\n",
       "      <td>True</td>\n",
       "      <td>False</td>\n",
       "    </tr>\n",
       "  </tbody>\n",
       "</table>\n",
       "<p>5 rows × 24 columns</p>\n",
       "</div>"
      ],
      "text/plain": [
       "   age   bmi  cholesterol_level  hypertension  asthma  cirrhosis  \\\n",
       "0   49  22.0                185             1       0          0   \n",
       "1   49  16.1                232             1       0          1   \n",
       "2   54  23.4                198             1       0          1   \n",
       "3   61  42.4                249             1       0          0   \n",
       "4   68  37.7                242             1       0          1   \n",
       "\n",
       "   other_cancer  survived  gender = _Female  gender = _Male  ...  \\\n",
       "0             0         0              True           False  ...   \n",
       "1             0         0             False            True  ...   \n",
       "2             0         0              True           False  ...   \n",
       "3             0         0              True           False  ...   \n",
       "4             0         1             False            True  ...   \n",
       "\n",
       "   family_history = _No  family_history = _Yes  \\\n",
       "0                 False                   True   \n",
       "1                  True                  False   \n",
       "2                 False                   True   \n",
       "3                 False                   True   \n",
       "4                  True                  False   \n",
       "\n",
       "   smoking_status = _Current Smoker  smoking_status = _Former Smoker  \\\n",
       "0                             False                            False   \n",
       "1                             False                            False   \n",
       "2                             False                             True   \n",
       "3                             False                             True   \n",
       "4                             False                            False   \n",
       "\n",
       "   smoking_status = _Never Smoked  smoking_status = _Passive Smoker  \\\n",
       "0                            True                             False   \n",
       "1                           False                              True   \n",
       "2                           False                             False   \n",
       "3                           False                             False   \n",
       "4                            True                             False   \n",
       "\n",
       "   treatment_type = _Chemotherapy  treatment_type = _Combined  \\\n",
       "0                           False                       False   \n",
       "1                           False                       False   \n",
       "2                           False                       False   \n",
       "3                           False                        True   \n",
       "4                           False                       False   \n",
       "\n",
       "   treatment_type = _Radiation  treatment_type = _Surgery  \n",
       "0                        False                       True  \n",
       "1                        False                       True  \n",
       "2                         True                      False  \n",
       "3                        False                      False  \n",
       "4                         True                      False  \n",
       "\n",
       "[5 rows x 24 columns]"
      ]
     },
     "execution_count": 5,
     "metadata": {},
     "output_type": "execute_result"
    }
   ],
   "source": [
    "# one hote encoding\n",
    "def _transform_column_into_dummies(dataframe, name_of_column):\n",
    "    dummies = pd.get_dummies(dataframe[name_of_column], prefix=f\"{name_of_column} = \")\n",
    "    \n",
    "    dataframe = pd.concat([dataframe, dummies], axis=1)\n",
    "    \n",
    "    dataframe = dataframe.drop([name_of_column], axis=1)\n",
    "    \n",
    "    return dataframe\n",
    "for column in data.columns:\n",
    "    if data[column].dtype == object:\n",
    "        data = _transform_column_into_dummies(data, column)\n",
    "    \n",
    "data.head()"
   ]
  },
  {
   "cell_type": "code",
   "execution_count": 6,
   "id": "d6515426-b76a-4251-8a53-dc37f709ea07",
   "metadata": {},
   "outputs": [
    {
     "data": {
      "text/plain": [
       "(162500, 24)"
      ]
     },
     "execution_count": 6,
     "metadata": {},
     "output_type": "execute_result"
    }
   ],
   "source": [
    "data.shape"
   ]
  },
  {
   "cell_type": "code",
   "execution_count": 7,
   "id": "2e95489b-f206-4982-863a-8703bfb307b8",
   "metadata": {},
   "outputs": [],
   "source": [
    "# Select the target set\n",
    "# Generate a synthetic imbalanced dataset\n",
    "X = data.drop(\"survived\" , axis=1) \n",
    "y = data[\"survived\"]"
   ]
  },
  {
   "cell_type": "code",
   "execution_count": 8,
   "id": "6a527706-b24c-4992-9e2b-4a616a9abc7b",
   "metadata": {},
   "outputs": [],
   "source": [
    "# Perform a train/test split \n",
    "from sklearn.model_selection import train_test_split\n",
    "\n",
    "X_train, X_test, y_train, y_test = train_test_split(X, y, test_size=0.2, random_state=42)"
   ]
  },
  {
   "cell_type": "code",
   "execution_count": 34,
   "id": "a247896f-6098-4483-9c0d-241ee4a2bb93",
   "metadata": {},
   "outputs": [],
   "source": [
    "# Normalize the data for Neural network\n",
    "from sklearn.preprocessing import MinMaxScaler\n",
    "\n",
    "scaler = MinMaxScaler()\n",
    "X_train = scaler.fit_transform(X_train)\n",
    "X_test = scaler.transform(X_test)"
   ]
  },
  {
   "cell_type": "code",
   "execution_count": 9,
   "id": "2fc70366-d5a6-486b-aadc-ad020ce8cddd",
   "metadata": {},
   "outputs": [],
   "source": [
    "# Normalize the data for logistic regression and random forest\n",
    "from sklearn.preprocessing import StandardScaler\n",
    "\n",
    "#scaler = StandardScaler().fit(X_train)\n",
    "scaler = StandardScaler()\n",
    "\n",
    "X_train = scaler.fit_transform(X_train)\n",
    "X_test = scaler.transform(X_test)"
   ]
  },
  {
   "cell_type": "code",
   "execution_count": 10,
   "id": "ca0c2728-35af-4c9e-824c-7392be56d332",
   "metadata": {},
   "outputs": [
    {
     "name": "stdout",
     "output_type": "stream",
     "text": [
      "Original class distribution: [101338  28662]\n",
      "Resampled class distribution: [101338 101338]\n"
     ]
    }
   ],
   "source": [
    "# Applying SMOTE to deal with class imbalance\n",
    "\n",
    "# !pip install imbalanced-learn\n",
    "from sklearn.datasets import make_classification\n",
    "from sklearn.model_selection import train_test_split\n",
    "from imblearn.over_sampling import SMOTE\n",
    "from sklearn.metrics import classification_report\n",
    "\n",
    "# Check the distribution of the target variable in the training set\n",
    "print(\"Original class distribution:\", np.bincount(y_train))\n",
    "\n",
    "# Apply SMOTE to the training set\n",
    "smote = SMOTE(random_state=42)\n",
    "X_train, y_train = smote.fit_resample(X_train, y_train)\n",
    "\n",
    "# Check the distribution of the target variable after applying SMOTE\n",
    "print(\"Resampled class distribution:\", np.bincount(y_train))"
   ]
  },
  {
   "cell_type": "code",
   "execution_count": 23,
   "id": "794a2853-4d17-49bf-87da-4b6a2327b15d",
   "metadata": {},
   "outputs": [],
   "source": [
    "def training(model):\n",
    "    model.fit(X_train, y_train)\n",
    "    pred = model.predict(X_test)\n",
    "    proba = model.predict_proba(X_test)\n",
    "    score = accuracy_score(pred, y_test)\n",
    "    score_f1 = f1_score(pred, y_test)\n",
    "    report = classification_report(pred, y_test)\n",
    "    cm = confusion_matrix(pred, y_test)\n",
    "    \n",
    "    return score_f1*100, score*100, report, cm, pred, proba"
   ]
  },
  {
   "cell_type": "code",
   "execution_count": 11,
   "id": "6f0308c2-b36c-4852-8ad2-afec2568c238",
   "metadata": {},
   "outputs": [],
   "source": [
    "from sklearn.linear_model import LogisticRegression\n",
    "from sklearn.tree import DecisionTreeClassifier\n",
    "from sklearn.ensemble import RandomForestClassifier\n",
    "rfc = RandomForestClassifier()\n",
    "dtc = DecisionTreeClassifier()\n",
    "lgr = LogisticRegression()\n",
    "\n",
    "#models = [rfc, dtc, lgr]\n",
    "models = [rfc, lgr]\n",
    "\n",
    "#names = [\"Random Forest\", \"Decision Tree\", \"Logistic Regression\"]\n",
    "names = [\"Random Forest\", \"Logistic Regression\"]"
   ]
  },
  {
   "cell_type": "code",
   "execution_count": 13,
   "id": "c9d4a18f-d571-492d-a0e1-290289036c11",
   "metadata": {
    "scrolled": true
   },
   "outputs": [],
   "source": [
    "from sklearn.metrics import f1_score, accuracy_score, confusion_matrix \n",
    "\n",
    "scores_f1, scores, reports, cms, preds, probas = [], [], dict(), dict(), dict(), dict()\n",
    "\n",
    "for i, j in zip(models, names):\n",
    "    score_f1, score, report, cm, pred, proba = training(i)\n",
    "    scores_f1 += [score_f1]\n",
    "    scores += [score]\n",
    "    reports[j] = report\n",
    "    cms[j] = cm\n",
    "    preds[j] = pred\n",
    "    probas[j] = proba"
   ]
  },
  {
   "cell_type": "code",
   "execution_count": 26,
   "id": "aa7825ab-df9c-4f9f-85ae-5ab5a66d1ee5",
   "metadata": {},
   "outputs": [
    {
     "data": {
      "text/plain": [
       "[67.41230769230769, 49.38769230769231]"
      ]
     },
     "execution_count": 26,
     "metadata": {},
     "output_type": "execute_result"
    }
   ],
   "source": [
    "scores"
   ]
  },
  {
   "cell_type": "code",
   "execution_count": 22,
   "id": "6805b347-e766-4bf5-83da-530f65f4f749",
   "metadata": {},
   "outputs": [
    {
     "data": {
      "image/png": "[encoded data removed]",
      "text/plain": [
       "<Figure size 640x480 with 2 Axes>"
      ]
     },
     "metadata": {},
     "output_type": "display_data"
    }
   ],
   "source": [
    "#{'Random Forest': array([[20496,  5622],\n",
    "#        [ 4969,  1413]], dtype=int64),\n",
    "# 'Logistic Regression': array([[12462,  3446],\n",
    "#        [13003,  3589]], dtype=int64)}\n",
    "\n",
    "\n"
   ]
  },
  {
   "cell_type": "markdown",
   "id": "154f39cf-9029-49e9-bf4e-b682c7d305af",
   "metadata": {},
   "source": [
    "### Comparison of Accuracy score for 3 models\n",
    "#### Models evaluation Accuracy score rated"
   ]
  },
  {
   "cell_type": "code",
   "execution_count": 14,
   "id": "d4b6c6a6-13ab-4dcd-878f-46fcf93e24bf",
   "metadata": {
    "scrolled": true
   },
   "outputs": [
    {
     "name": "stderr",
     "output_type": "stream",
     "text": [
      "C:\\Users\\Rabia Afzal\\AppData\\Local\\Temp\\ipykernel_42060\\2178567749.py:7: UserWarning: set_ticklabels() should only be used with a fixed number of ticks, i.e. after set_ticks() or using a FixedLocator.\n",
      "  axes.set_xticklabels(axes.get_xticklabels(), fontsize = 13, rotation=45)\n"
     ]
    },
    {
     "data": {
      "image/png": "[encoded data removed]",
      "text/plain": [
       "<Figure size 640x480 with 1 Axes>"
      ]
     },
     "metadata": {},
     "output_type": "display_data"
    }
   ],
   "source": [
    "dd = pd.DataFrame({\"scores\": scores}, index=names).sort_values(\"scores\", ascending=False)\n",
    "dd[\"scores\"] = round(dd[\"scores\"], 2)\n",
    "fig, axes = plt.subplots()\n",
    "sns.barplot(x=dd.index, y=dd.iloc[:, 0], ax=axes)\n",
    "for container in axes.containers:\n",
    "    axes.bar_label(container)\n",
    "axes.set_xticklabels(axes.get_xticklabels(), fontsize = 13, rotation=45)\n",
    "axes.get_yticklabels(())\n",
    "axes.set_xlabel(\"\")\n",
    "axes.set_ylabel(\"Accuracy score\", fontweight = 'bold', fontsize = 14, color='black')\n",
    "axes.set_title(\"Models evaluation by Accuracy score\",fontweight = 'bold', fontsize = 14, color='black')\n",
    "\n",
    "plt.show()"
   ]
  },
  {
   "cell_type": "markdown",
   "id": "762614ac-7675-4bd8-b7ba-df312b6526c7",
   "metadata": {},
   "source": [
    "## Find the optimal threshold for Logistic Regression and Random forest."
   ]
  },
  {
   "cell_type": "code",
   "execution_count": 26,
   "id": "8eba3133-7ecd-4dc4-bfdf-4dcba863874d",
   "metadata": {},
   "outputs": [],
   "source": [
    "from sklearn.linear_model import LogisticRegression\n",
    "from sklearn.tree import DecisionTreeClassifier\n",
    "from sklearn.ensemble import RandomForestClassifier\n",
    "from sklearn.metrics import f1_score, accuracy_score, confusion_matrix "
   ]
  },
  {
   "cell_type": "code",
   "execution_count": 27,
   "id": "0f6c71ec-bc20-44de-aa00-72da6ae7eda8",
   "metadata": {},
   "outputs": [],
   "source": [
    "from sklearn.linear_model import LogisticRegression\n",
    "from sklearn.tree import DecisionTreeClassifier\n",
    "from sklearn.ensemble import RandomForestClassifier\n",
    "rfc = RandomForestClassifier()\n",
    "dtc = DecisionTreeClassifier()\n",
    "lgr = LogisticRegression()\n",
    "\n",
    "#models = [rfc, dtc, lgr]\n",
    "models = [rfc, lgr]\n",
    "\n",
    "#names = [\"Random Forest\", \"Decision Tree\", \"Logistic Regression\"]\n",
    "names = [\"Random Forest\", \"Logistic Regression\"]"
   ]
  },
  {
   "cell_type": "code",
   "execution_count": 28,
   "id": "5fb5e63c-ce31-4c1a-84f2-588de9923e6a",
   "metadata": {},
   "outputs": [],
   "source": [
    "optimal_scores_f1, optimal_accuracy_score, cms = [], [], dict()"
   ]
  },
  {
   "cell_type": "markdown",
   "id": "08768d6d-d8df-4604-8905-bee9dcc0d992",
   "metadata": {},
   "source": [
    "### Optimal threshold for accuracy score by Random forest"
   ]
  },
  {
   "cell_type": "code",
   "execution_count": 13,
   "id": "4f630677-2aeb-4cc0-80a2-52b0959ea262",
   "metadata": {
    "scrolled": true
   },
   "outputs": [
    {
     "name": "stdout",
     "output_type": "stream",
     "text": [
      "Optimal Threshold: 0.91\n",
      "Optimal Accuracy: 0.7835692307692308\n"
     ]
    },
    {
     "data": {
      "image/png": "[encoded data removed]",
      "text/plain": [
       "<Figure size 640x480 with 1 Axes>"
      ]
     },
     "metadata": {},
     "output_type": "display_data"
    }
   ],
   "source": [
    "rfc = RandomForestClassifier(random_state=42)\n",
    "rfc.fit(X_train, y_train)\n",
    "\n",
    "# Step 3: Predict probabilities on the validation set\n",
    "y_probs = rfc.predict_proba(X_test)[:, 1]\n",
    "\n",
    "# Step 4: Find the optimal threshold for accuracy\n",
    "thresholds = np.arange(0.0, 1.0, 0.01)\n",
    "accuracy_scores = []\n",
    "\n",
    "for threshold in thresholds:\n",
    "    y_pred = (y_probs >= threshold).astype(int)\n",
    "    accuracy = accuracy_score(y_test, y_pred)\n",
    "    accuracy_scores.append(accuracy)\n",
    "\n",
    "optimal_threshold = thresholds[np.argmax(accuracy_scores)]\n",
    "optimal_accuracy_rfc = max(accuracy_scores)\n",
    "\n",
    "optimal_accuracy_score += [optimal_accuracy_rfc]\n",
    "\n",
    "print(f\"Optimal Threshold: {optimal_threshold}\")\n",
    "print(f\"Optimal Accuracy: {optimal_accuracy_rfc}\")\n",
    "\n",
    "# Plot the Accuracy-score against thresholds\n",
    "import matplotlib.pyplot as plt\n",
    "\n",
    "plt.plot(thresholds, accuracy_scores, marker='o')\n",
    "plt.xlabel('Threshold',fontweight = 'bold', fontsize = 14, color='black')\n",
    "plt.ylabel('Acuracy Score',fontweight = 'bold', fontsize = 14, color='black')\n",
    "plt.title('Accuracy Score vs. Threshold for random forest',fontweight = 'bold', fontsize = 14, color='black')\n",
    "plt.show()\n",
    "#Optimal Threshold: 0.99\n",
    "#Optimal Accuracy: 0.7835692307692308\n",
    "\n",
    "# new_test_data\n",
    "#y_probs = rfc.predict(new_test_data)\n",
    "#y_pred = (y_probs >= optimal_threshold).astype(int)"
   ]
  },
  {
   "cell_type": "code",
   "execution_count": 23,
   "id": "95690014-39a2-411b-9248-284ab54e9d10",
   "metadata": {},
   "outputs": [
    {
     "data": {
      "text/plain": [
       "[0.7835692307692308, 0.7835384615384615]"
      ]
     },
     "execution_count": 23,
     "metadata": {},
     "output_type": "execute_result"
    }
   ],
   "source": [
    "optimal_accuracy_score"
   ]
  },
  {
   "cell_type": "markdown",
   "id": "ec05d271-cb91-4dda-b9ff-b381a6b78d31",
   "metadata": {},
   "source": [
    "### Accuracy with Optimal Threshold and Classification Report with Optimal Threshold for random forest"
   ]
  },
  {
   "cell_type": "code",
   "execution_count": 14,
   "id": "122176eb-32fc-43dd-a6c9-8e7615c204f2",
   "metadata": {},
   "outputs": [
    {
     "name": "stdout",
     "output_type": "stream",
     "text": [
      "Accuracy with Optimal Threshold: 0.7835692307692308\n",
      "Classification Report with Optimal Threshold:\n",
      "              precision    recall  f1-score   support\n",
      "\n",
      "           0       0.78      1.00      0.88     25465\n",
      "           1       0.67      0.00      0.00      7035\n",
      "\n",
      "    accuracy                           0.78     32500\n",
      "   macro avg       0.73      0.50      0.44     32500\n",
      "weighted avg       0.76      0.78      0.69     32500\n",
      "\n"
     ]
    },
    {
     "data": {
      "image/png": "[encoded data removed]",
      "text/plain": [
       "<Figure size 640x480 with 2 Axes>"
      ]
     },
     "metadata": {},
     "output_type": "display_data"
    }
   ],
   "source": [
    "# Step 5: Use the optimal threshold for making predictions on new data\n",
    "def predict_with_threshold(model, X, threshold):\n",
    "    probs = model.predict_proba(X)[:, 1]\n",
    "    return (probs >= threshold).astype(int)\n",
    "\n",
    "# Example: Predict on the validation set using the optimal threshold\n",
    "y_val_pred_optimal_rfc = predict_with_threshold(rfc, X_test, optimal_threshold)\n",
    "\n",
    "# Evaluate the model with the optimal threshold\n",
    "print(\"Accuracy with Optimal Threshold:\", accuracy_score(y_test, y_val_pred_optimal_rfc))\n",
    "#print(\"Accuracy with Optimal Threshold:\", accuracy_score(y_test, y_pred))\n",
    "# Evaluate the model with the optimal threshold\n",
    "from sklearn.metrics import classification_report\n",
    "\n",
    "print(\"Classification Report with Optimal Threshold:\")\n",
    "print(classification_report(y_test, y_val_pred_optimal_rfc))\n",
    "\n",
    "# Use the optimal threshold for random forest \n",
    "#y_probs_rfc = rfc.predict(X_test)\n",
    "#y_pred_rfc = (y_probs_rfc > 0.99).astype(int)\n",
    "cm_rfc = confusion_matrix(y_test,y_val_pred_optimal_rfc)\n",
    "cms[\"Random Forest\"] = cm_rfc\n",
    "sns.heatmap(cms['Random Forest'], annot=True,  cmap=\"RdPu\", fmt='d')\n",
    "plt.title(\"Confusion matrix with accuracy = 0.78356923\")\n",
    "plt.show()\n",
    "# Example: Predict on new unseen data using the optimal threshold\n",
    "# X_new = ... (Load or create your new data)\n",
    "# y_new_pred = predict_with_threshold(clf, X_new, optimal_threshold)"
   ]
  },
  {
   "cell_type": "code",
   "execution_count": 17,
   "id": "5a0da07a-63ad-499c-bdf9-c63835b444de",
   "metadata": {},
   "outputs": [
    {
     "data": {
      "text/plain": [
       "array([0.  , 0.02, 0.04, 0.06, 0.08, 0.1 , 0.12, 0.14, 0.16, 0.18, 0.2 ,\n",
       "       0.22, 0.24, 0.26, 0.28, 0.3 , 0.32, 0.34, 0.36, 0.38, 0.4 , 0.42,\n",
       "       0.44, 0.46, 0.48, 0.5 , 0.52, 0.54, 0.56, 0.58, 0.6 , 0.62, 0.64,\n",
       "       0.66, 0.68, 0.7 , 0.72, 0.74, 0.76, 0.78, 0.8 , 0.82, 0.84, 0.86,\n",
       "       0.88, 0.9 , 0.92, 0.94, 0.96, 0.98])"
      ]
     },
     "execution_count": 17,
     "metadata": {},
     "output_type": "execute_result"
    }
   ],
   "source": [
    "thresholds = np.arange(0.0, 1.0, 0.02)\n",
    "thresholds"
   ]
  },
  {
   "cell_type": "code",
   "execution_count": 128,
   "id": "73100a5c-984b-4c97-b20f-8549836c99a1",
   "metadata": {},
   "outputs": [],
   "source": [
    "#rfc.predict_proba(X_test)\n",
    "#rfc.predict_proba(X_test)[:, 1]"
   ]
  },
  {
   "cell_type": "markdown",
   "id": "7580e88c-b2d3-450c-8b8d-41efae00f011",
   "metadata": {},
   "source": [
    "### Optimal threshold for F1 score and Classification report by Random forest"
   ]
  },
  {
   "cell_type": "code",
   "execution_count": 14,
   "id": "08ec88ea-ef1a-4f61-b04c-e4683044aaba",
   "metadata": {},
   "outputs": [
    {
     "name": "stdout",
     "output_type": "stream",
     "text": [
      "Optimal Threshold: 0.07\n",
      "Optimal F1-Score: 0.3561073450630919\n"
     ]
    },
    {
     "data": {
      "image/png": "[encoded data removed]",
      "text/plain": [
       "<Figure size 640x480 with 1 Axes>"
      ]
     },
     "metadata": {},
     "output_type": "display_data"
    }
   ],
   "source": [
    "# Step 2: Train a Random Forest Classifier\n",
    "rfc = RandomForestClassifier(random_state=42)\n",
    "rfc.fit(X_train, y_train)\n",
    "\n",
    "# Predict probabilities on the validation set\n",
    "y_probs = rfc.predict_proba(X_test)[:, 1]\n",
    "\n",
    "# Evaluate F1-score for different thresholds\n",
    "thresholds = np.arange(0.0, 1.0, 0.01)\n",
    "f1_scores = []\n",
    "\n",
    "for threshold in thresholds:\n",
    "    y_pred = (y_probs >= threshold).astype(int)\n",
    "    f1 = f1_score(y_test, y_pred)\n",
    "    f1_scores.append(f1)\n",
    "\n",
    "# Find the optimal threshold\n",
    "optimal_threshold = thresholds[np.argmax(f1_scores)]\n",
    "optimal_f1_score_rfc = max(f1_scores)\n",
    "\n",
    "optimal_scores_f1 += [optimal_f1_score_rfc] \n",
    "\n",
    "print(f\"Optimal Threshold: {optimal_threshold}\")\n",
    "print(f\"Optimal F1-Score: {optimal_f1_score_rfc}\")\n",
    "\n",
    "# Plot the F1-score against thresholds\n",
    "import matplotlib.pyplot as plt\n",
    "\n",
    "plt.plot(thresholds, f1_scores, marker='o')\n",
    "plt.xlabel('Threshold', fontsize = 11, color='black')\n",
    "plt.ylabel('F1 Score', fontsize = 11, color='black')\n",
    "plt.title('F1 Score vs. Threshold for Random forest with stepsize = 0.01',fontweight = 'bold', fontsize = 12, color='black')\n",
    "plt.show()\n",
    "\n",
    "#Optimal Threshold: 0.07\n",
    "#Optimal F1-Score: 0.3561073450630919"
   ]
  },
  {
   "cell_type": "code",
   "execution_count": 33,
   "id": "3dcd8895-1df7-4970-bd7c-980aaad35d96",
   "metadata": {},
   "outputs": [
    {
     "data": {
      "text/plain": [
       "[0.36]"
      ]
     },
     "execution_count": 33,
     "metadata": {},
     "output_type": "execute_result"
    }
   ],
   "source": [
    "optimal_scores_f1 "
   ]
  },
  {
   "cell_type": "code",
   "execution_count": 15,
   "id": "2024ffa3-3faa-48cc-972b-f9bc9a9c845f",
   "metadata": {},
   "outputs": [
    {
     "name": "stdout",
     "output_type": "stream",
     "text": [
      "F1-score with Optimal Threshold: 0.3561073450630919\n",
      "Classification Report with Optimal Threshold:\n",
      "              precision    recall  f1-score   support\n",
      "\n",
      "           0       0.85      0.00      0.01     25465\n",
      "           1       0.22      1.00      0.36      7035\n",
      "\n",
      "    accuracy                           0.22     32500\n",
      "   macro avg       0.53      0.50      0.18     32500\n",
      "weighted avg       0.71      0.22      0.08     32500\n",
      "\n"
     ]
    },
    {
     "data": {
      "image/png": "[encoded data removed]",
      "text/plain": [
       "<Figure size 640x480 with 2 Axes>"
      ]
     },
     "metadata": {},
     "output_type": "display_data"
    }
   ],
   "source": [
    "# Step 5: Use the optimal threshold for making predictions on new data\n",
    "def predict_with_threshold(model, X, threshold):\n",
    "    probs = model.predict_proba(X)[:, 1]\n",
    "    return (probs >= threshold).astype(int)\n",
    "\n",
    "# Example: Predict on the validation set using the optimal threshold\n",
    "y_val_pred_optimal = predict_with_threshold(rfc, X_test, optimal_threshold)\n",
    "\n",
    "# Evaluate the model with the optimal threshold\n",
    "#print(\"Accuracy with Optimal Threshold:\", f1_score(y_test, y_val_pred_optimal))\n",
    "print(\"F1-score with Optimal Threshold:\",f1_score(y_test, y_val_pred_optimal))\n",
    "\n",
    "# Evaluate the model with the optimal threshold\n",
    "from sklearn.metrics import classification_report\n",
    "\n",
    "print(\"Classification Report with Optimal Threshold:\")\n",
    "print(classification_report(y_test, y_val_pred_optimal))\n",
    "\n",
    "cm_rfc = confusion_matrix(y_test,y_val_pred_optimal)\n",
    "cms[\"Random Forest\"] = cm_rfc\n",
    "sns.heatmap(cms['Random Forest'], annot=True,cmap=\"YlOrBr\",fmt='d')\n",
    "plt.title(\"Confusion matrix with F1 score =  0.356463417\")\n",
    "plt.show()\n",
    "# Example: Predict on new unseen data using the optimal threshold\n",
    "# X_new = ... (Load or create your new data)\n",
    "# y_new_pred = predict_with_threshold(clf, X_new, optimal_threshold)"
   ]
  },
  {
   "cell_type": "code",
   "execution_count": 80,
   "id": "f3415398-2fbb-4f2c-aba6-c176118358ae",
   "metadata": {
    "scrolled": true
   },
   "outputs": [
    {
     "data": {
      "text/plain": [
       "[0.7835384615384615]"
      ]
     },
     "execution_count": 80,
     "metadata": {},
     "output_type": "execute_result"
    }
   ],
   "source": [
    "optimal_accuracy_score"
   ]
  },
  {
   "cell_type": "code",
   "execution_count": 24,
   "id": "7678bfc7-7c50-41bf-ad67-f01686d1a05f",
   "metadata": {},
   "outputs": [
    {
     "data": {
      "text/plain": [
       "[0.36]"
      ]
     },
     "execution_count": 24,
     "metadata": {},
     "output_type": "execute_result"
    }
   ],
   "source": [
    "optimal_scores_f1"
   ]
  },
  {
   "cell_type": "markdown",
   "id": "1de1eb17-881b-4a43-94b6-e5b298599184",
   "metadata": {},
   "source": [
    "### Accuracy score with optimal threshold for Logistic regression"
   ]
  },
  {
   "cell_type": "code",
   "execution_count": 29,
   "id": "641f32f0-82b2-4757-b242-449749f9c195",
   "metadata": {
    "scrolled": true
   },
   "outputs": [
    {
     "name": "stderr",
     "output_type": "stream",
     "text": [
      "C:\\Users\\Rabia Afzal\\anaconda3\\Lib\\site-packages\\sklearn\\linear_model\\_logistic.py:469: ConvergenceWarning: lbfgs failed to converge (status=1):\n",
      "STOP: TOTAL NO. of ITERATIONS REACHED LIMIT.\n",
      "\n",
      "Increase the number of iterations (max_iter) or scale the data as shown in:\n",
      "    https://scikit-learn.org/stable/modules/preprocessing.html\n",
      "Please also refer to the documentation for alternative solver options:\n",
      "    https://scikit-learn.org/stable/modules/linear_model.html#logistic-regression\n",
      "  n_iter_i = _check_optimize_result(\n"
     ]
    },
    {
     "name": "stdout",
     "output_type": "stream",
     "text": [
      "Optimal Threshold: 0.24\n",
      "Optimal Accuracy: 0.7835384615384615\n"
     ]
    },
    {
     "data": {
      "image/png": "[encoded data removed]",
      "text/plain": [
       "<Figure size 640x480 with 1 Axes>"
      ]
     },
     "metadata": {},
     "output_type": "display_data"
    }
   ],
   "source": [
    "# Step 2: Train a logistic regression\n",
    "lgr = LogisticRegression(random_state=42)\n",
    "lgr.fit(X_train, y_train)\n",
    "# Step 3: Predict probabilities on the validation set\n",
    "y_probs_lgr = lgr.predict_proba(X_test)[:, 1]\n",
    "\n",
    "# Step 4: Find the optimal threshold for accuracy\n",
    "thresholds = np.arange(0.0, 1.0, 0.01)\n",
    "accuracy_scores = []\n",
    "\n",
    "for threshold in thresholds:\n",
    "    y_pred_lgr = (y_probs_lgr >= threshold).astype(int)\n",
    "    accuracy = accuracy_score(y_test, y_pred_lgr)\n",
    "    accuracy_scores.append(accuracy)\n",
    "\n",
    "optimal_threshold_lgr = thresholds[np.argmax(accuracy_scores)]\n",
    "optimal_accuracy_lgr = max(accuracy_scores)\n",
    "\n",
    "optimal_accuracy_score += [optimal_accuracy_lgr]\n",
    "\n",
    "print(f\"Optimal Threshold: {optimal_threshold_lgr}\")\n",
    "print(f\"Optimal Accuracy: {optimal_accuracy_lgr}\")\n",
    "\n",
    "# Plot the Accuracy-score against thresholds\n",
    "import matplotlib.pyplot as plt\n",
    "\n",
    "plt.plot(thresholds, accuracy_scores, marker='o')\n",
    "plt.xlabel('Threshold', fontsize = 11, color='black')\n",
    "plt.ylabel('Acuracy Score', fontsize = 11, color='black')\n",
    "plt.title('Accuracy Score vs. Threshold for Logistic regression with stepsize = 0.01',fontweight = 'bold', fontsize = 12, color='black')\n",
    "plt.savefig('name_1.png', transparent=True, dpi=300)\n",
    "plt.show()\n",
    "#Optimal Threshold: 0.54\n",
    "#Optimal Accuracy: 0.7835384615384615\n",
    "# 0.01,0.001,0.002,0.0001,0.03"
   ]
  },
  {
   "cell_type": "code",
   "execution_count": 39,
   "id": "d4aa840a-5538-4339-b475-578dfe9258d5",
   "metadata": {},
   "outputs": [
    {
     "name": "stdout",
     "output_type": "stream",
     "text": [
      "Accuracy with Optimal Threshold: 0.7835384615384615\n",
      "Classification Report with Optimal Threshold:\n",
      "              precision    recall  f1-score   support\n",
      "\n",
      "           0       0.78      1.00      0.88     25465\n",
      "           1       0.00      0.00      0.00      7035\n",
      "\n",
      "    accuracy                           0.78     32500\n",
      "   macro avg       0.39      0.50      0.44     32500\n",
      "weighted avg       0.61      0.78      0.69     32500\n",
      "\n"
     ]
    },
    {
     "name": "stderr",
     "output_type": "stream",
     "text": [
      "C:\\Users\\Rabia Afzal\\anaconda3\\Lib\\site-packages\\sklearn\\metrics\\_classification.py:1509: UndefinedMetricWarning: Precision is ill-defined and being set to 0.0 in labels with no predicted samples. Use `zero_division` parameter to control this behavior.\n",
      "  _warn_prf(average, modifier, f\"{metric.capitalize()} is\", len(result))\n",
      "C:\\Users\\Rabia Afzal\\anaconda3\\Lib\\site-packages\\sklearn\\metrics\\_classification.py:1509: UndefinedMetricWarning: Precision is ill-defined and being set to 0.0 in labels with no predicted samples. Use `zero_division` parameter to control this behavior.\n",
      "  _warn_prf(average, modifier, f\"{metric.capitalize()} is\", len(result))\n",
      "C:\\Users\\Rabia Afzal\\anaconda3\\Lib\\site-packages\\sklearn\\metrics\\_classification.py:1509: UndefinedMetricWarning: Precision is ill-defined and being set to 0.0 in labels with no predicted samples. Use `zero_division` parameter to control this behavior.\n",
      "  _warn_prf(average, modifier, f\"{metric.capitalize()} is\", len(result))\n"
     ]
    },
    {
     "data": {
      "image/png": "[encoded data removed]",
      "text/plain": [
       "<Figure size 640x480 with 2 Axes>"
      ]
     },
     "metadata": {},
     "output_type": "display_data"
    },
    {
     "name": "stdout",
     "output_type": "stream",
     "text": [
      "[[25465     0]\n",
      " [ 7035     0]]\n"
     ]
    },
    {
     "data": {
      "text/plain": [
       "0.0"
      ]
     },
     "execution_count": 39,
     "metadata": {},
     "output_type": "execute_result"
    }
   ],
   "source": [
    "# Step 5: Use the optimal threshold for making predictions on new data\n",
    "def predict_with_threshold(model, X, threshold):\n",
    "    probs = model.predict_proba(X)[:, 1]\n",
    "    return (probs >= threshold).astype(int)\n",
    "\n",
    "# Example: Predict on the validation set using the optimal threshold\n",
    "y_val_pred_optimal = predict_with_threshold(lgr, X_test, optimal_threshold_lgr)\n",
    "\n",
    "# Evaluate the model with the optimal threshold\n",
    "#print(\"Accuracy with Optimal Threshold:\", f1_score(y_test, y_val_pred_optimal))\n",
    "\n",
    "# Evaluate the model with the optimal threshold\n",
    "print(\"Accuracy with Optimal Threshold:\", accuracy_score(y_test, y_val_pred_optimal))\n",
    "#print(\"Accuracy with Optimal Threshold:\", accuracy_score(y_test, y_pred_lgr))\n",
    "# Evaluate the model with the optimal threshold\n",
    "from sklearn.metrics import classification_report,recall_score, precision_score\n",
    "\n",
    "print(\"Classification Report with Optimal Threshold:\")\n",
    "print(classification_report(y_test, y_val_pred_optimal))\n",
    "#print(classification_report(y_test, y_pred_lgr))\n",
    "\n",
    "cm_lgr = confusion_matrix(y_test,y_val_pred_optimal)\n",
    "cms[\"Logistic Regression\"] = cm_lgr\n",
    "sns.heatmap(cms['Logistic Regression'], annot=True, fmt='d')\n",
    "plt.title(\"Confusion matrix for logistic regression with accuracy = 0.78353846\")\n",
    "plt.show()\n",
    "print(confusion_matrix(y_test,y_val_pred_optimal))\n",
    "recall_score(y_test, y_val_pred_optimal)"
   ]
  },
  {
   "cell_type": "code",
   "execution_count": 26,
   "id": "6628d08f-d1ef-4cdb-b1b3-88aec7b3eaee",
   "metadata": {},
   "outputs": [
    {
     "data": {
      "image/png": "[encoded data removed]",
      "text/plain": [
       "<Figure size 640x480 with 2 Axes>"
      ]
     },
     "metadata": {},
     "output_type": "display_data"
    }
   ],
   "source": [
    "# Use the optimal threshold = 0.54 for logistic regression from above plot\n",
    "#y_pred_lgr = (y_probs_lgr > 0.54).astype(int)\n",
    "cm_lgr = confusion_matrix(y_test,y_val_pred_optimal)\n",
    "cms[\"Logistic Regression\"] = cm_lgr\n",
    "sns.heatmap(cms['Logistic Regression'], annot=True, fmt='d')\n",
    "plt.show()"
   ]
  },
  {
   "cell_type": "markdown",
   "id": "3a122dbb-ffd7-4f97-adee-f16c7b79dcde",
   "metadata": {},
   "source": [
    "### Optimal threshold for F1 score and Classification report by Logistic Regression"
   ]
  },
  {
   "cell_type": "code",
   "execution_count": 56,
   "id": "56f5fd40-ae8e-4360-bd00-f08a01aa9dc2",
   "metadata": {
    "scrolled": true
   },
   "outputs": [
    {
     "name": "stdout",
     "output_type": "stream",
     "text": [
      "Optimal Threshold: 0.46\n",
      "Optimal F1-Score: 0.36\n"
     ]
    },
    {
     "data": {
      "image/png": "[encoded data removed]",
      "text/plain": [
       "<Figure size 640x480 with 1 Axes>"
      ]
     },
     "metadata": {},
     "output_type": "display_data"
    }
   ],
   "source": [
    "#Step 2: Train a logistic regression\n",
    "lgr = LogisticRegression(random_state=42)\n",
    "lgr.fit(X_train, y_train)\n",
    "# Step 3: Predict probabilities on the validation set\n",
    "y_probs_lgr = lgr.predict_proba(X_test)[:, 1]\n",
    "\n",
    "# Evaluate F1-score for different thresholds\n",
    "thresholds = np.arange(0.0, 1.0, 0.01)\n",
    "f1_scores = []\n",
    "\n",
    "for threshold in thresholds:\n",
    "    y_pred_lgr = (y_probs_lgr >= threshold).astype(int)\n",
    "    f1 = f1_score(y_test, y_pred_lgr)\n",
    "    f1_scores.append(f1)\n",
    "\n",
    "# Find the optimal threshold\n",
    "optimal_threshold = thresholds[np.argmax(f1_scores)]\n",
    "optimal_f1_score_lgr = round(max(f1_scores),2)\n",
    "\n",
    "optimal_scores_f1 += [optimal_f1_score_lgr] \n",
    "\n",
    "print(f\"Optimal Threshold: {optimal_threshold}\")\n",
    "print(f\"Optimal F1-Score: {optimal_f1_score_lgr}\")\n",
    "\n",
    "# Plot the F1-score against thresholds\n",
    "import matplotlib.pyplot as plt\n",
    "\n",
    "plt.plot(thresholds, f1_scores, marker='o')\n",
    "plt.xlabel('Threshold', fontsize = 11, color='black')\n",
    "plt.ylabel('F1 Score', fontsize = 11, color='black')\n",
    "plt.title('F1 Score vs. Threshold for Logistic regression with stepsize = 0.01',fontweight = 'bold', fontsize = 12, color='black')\n",
    "plt.show()\n",
    "\n"
   ]
  },
  {
   "cell_type": "code",
   "execution_count": 21,
   "id": "f9922a3b-735d-4a6c-90ea-684f19c45c0f",
   "metadata": {},
   "outputs": [
    {
     "data": {
      "text/plain": [
       "[0.36, 0.36]"
      ]
     },
     "execution_count": 21,
     "metadata": {},
     "output_type": "execute_result"
    }
   ],
   "source": [
    "optimal_scores_f1 "
   ]
  },
  {
   "cell_type": "code",
   "execution_count": 58,
   "id": "ffce2787-f104-4db3-8cae-8fa198c7d960",
   "metadata": {
    "scrolled": true
   },
   "outputs": [
    {
     "name": "stdout",
     "output_type": "stream",
     "text": [
      "F1-score with Optimal Threshold: 0.3559223350125307\n",
      "Classification Report with Optimal Threshold:\n",
      "              precision    recall  f1-score   support\n",
      "\n",
      "           0       0.84      0.00      0.00     25465\n",
      "           1       0.22      1.00      0.36      7035\n",
      "\n",
      "    accuracy                           0.22     32500\n",
      "   macro avg       0.53      0.50      0.18     32500\n",
      "weighted avg       0.71      0.22      0.08     32500\n",
      "\n"
     ]
    },
    {
     "data": {
      "image/png": "[encoded data removed]",
      "text/plain": [
       "<Figure size 640x480 with 2 Axes>"
      ]
     },
     "metadata": {},
     "output_type": "display_data"
    }
   ],
   "source": [
    "# Step 5: Use the optimal threshold for making predictions on new data\n",
    "def predict_with_threshold(model, X, threshold):\n",
    "    probs = model.predict_proba(X)[:, 1]\n",
    "    return (probs >= threshold).astype(int)\n",
    "\n",
    "# Example: Predict on the validation set using the optimal threshold\n",
    "y_val_pred_optimal = predict_with_threshold(lgr, X_test, optimal_threshold)\n",
    "\n",
    "# Evaluate the model with the optimal threshold\n",
    "print(\"F1-score with Optimal Threshold:\", f1_score(y_test, y_val_pred_optimal))\n",
    "# Evaluate the model with the optimal threshold\n",
    "#print(\"F1-score with Optimal Threshold:\",optimal_f1_score_lgr)\n",
    "\n",
    "# Evaluate the model with the optimal threshold\n",
    "from sklearn.metrics import classification_report\n",
    "\n",
    "print(\"Classification Report with Optimal Threshold:\")\n",
    "print(classification_report(y_test, y_val_pred_optimal))\n",
    "\n",
    "cm_lgr = confusion_matrix(y_test,y_val_pred_optimal)\n",
    "cms[\"Logistic Regression\"] = cm_lgr\n",
    "sns.heatmap(cms['Logistic Regression'], annot=True,cmap=\"YlGnBu\", fmt='d')\n",
    "plt.title(\"Confusion matrix with F1 score = 0.355922\")\n",
    "plt.show()"
   ]
  },
  {
   "cell_type": "markdown",
   "id": "b10f5747-119b-4aba-bbc5-aba2fabe4254",
   "metadata": {},
   "source": [
    "### Models evaluation by optimal threshhold"
   ]
  },
  {
   "cell_type": "markdown",
   "id": "7d3293e5-ae8e-4239-8cdc-9fcde3bacd1d",
   "metadata": {},
   "source": [
    "### K fold cross validation score by using optimal threshold for Random Forest (We tried k fold CV, but got same accuracy.) "
   ]
  },
  {
   "cell_type": "code",
   "execution_count": 6,
   "id": "339bd785-4c0a-4c52-9e82-21580f9a9e56",
   "metadata": {},
   "outputs": [],
   "source": [
    "average_f1score = []"
   ]
  },
  {
   "cell_type": "code",
   "execution_count": 99,
   "id": "d2690041-0bab-48be-9cc8-ee1a1bff68d8",
   "metadata": {
    "scrolled": true
   },
   "outputs": [
    {
     "name": "stdout",
     "output_type": "stream",
     "text": [
      "Fold Optimal Threshold: 0.72\n",
      "Fold Optimal Accuracy: 0.781875\n",
      "Fold Optimal F1-Score: 0.0\n",
      "Fold Optimal Threshold: 0.6\n",
      "Fold Optimal Accuracy: 0.781875\n",
      "Fold Optimal F1-Score: 0.0113314447592068\n",
      "Fold Optimal Threshold: 0.6\n",
      "Fold Optimal Accuracy: 0.78125\n",
      "Fold Optimal F1-Score: 0.005681818181818182\n",
      "Fold Optimal Threshold: 0.56\n",
      "Fold Optimal Accuracy: 0.781875\n",
      "Fold Optimal F1-Score: 0.022408963585434174\n",
      "Fold Optimal Threshold: 0.59\n",
      "Fold Optimal Accuracy: 0.781875\n",
      "Fold Optimal F1-Score: 0.0113314447592068\n",
      "\n",
      "Mean Optimal Threshold: 0.614\n",
      "Mean Accuracy: 0.78175\n",
      "Mean F1-Score: 0.010150734257133191\n"
     ]
    }
   ],
   "source": [
    "import numpy as np\n",
    "import pandas as pd\n",
    "from sklearn.datasets import make_classification\n",
    "from sklearn.ensemble import RandomForestClassifier\n",
    "from sklearn.model_selection import StratifiedKFold\n",
    "from sklearn.metrics import accuracy_score, f1_score\n",
    "\n",
    "# Generate a synthetic imbalanced dataset\n",
    "#X, y = make_classification(n_samples=1000, n_features=20, n_classes=2, \n",
    "#                           weights=[0.1, 0.9], random_state=42)\n",
    "\n",
    "# Initialize the cross-validator\n",
    "kf = StratifiedKFold(n_splits=5, shuffle=True, random_state=42)\n",
    "\n",
    "# Lists to store performance metrics\n",
    "accuracy_scores = []\n",
    "f1_scores = []\n",
    "optimal_thresholds = []\n",
    "\n",
    "# Cross-validation process\n",
    "for train_index, val_index in kf.split(X, y):\n",
    "    X_train, X_val = X.iloc[train_index], X.iloc[val_index]\n",
    "    y_train, y_val = y.iloc[train_index], y.iloc[val_index]\n",
    "    \n",
    "    # Train the model\n",
    "    rfc = RandomForestClassifier(random_state=42)\n",
    "    rfc.fit(X_train, y_train)\n",
    "    \n",
    "    # Predict probabilities on the validation set\n",
    "    y_probs = rfc.predict_proba(X_val)[:, 1]\n",
    "    \n",
    "    # Find the optimal threshold for accuracy (can also use for F1-score)\n",
    "    thresholds = np.arange(0.0, 1.0, 0.01)\n",
    "    fold_accuracy_scores = []\n",
    "    fold_f1_scores = []\n",
    "\n",
    "    for threshold in thresholds:\n",
    "        y_pred = (y_probs >= threshold).astype(int)\n",
    "        accuracy = accuracy_score(y_val, y_pred)\n",
    "        f1 = f1_score(y_val, y_pred)\n",
    "        fold_accuracy_scores.append(accuracy)\n",
    "        fold_f1_scores.append(f1)\n",
    "\n",
    "    optimal_threshold = thresholds[np.argmax(fold_accuracy_scores)]\n",
    "    optimal_accuracy = max(fold_accuracy_scores)\n",
    "    optimal_f1 = fold_f1_scores[np.argmax(fold_accuracy_scores)]\n",
    "    \n",
    "    optimal_thresholds.append(optimal_threshold)\n",
    "    accuracy_scores.append(optimal_accuracy)\n",
    "    f1_scores.append(optimal_f1)\n",
    "    \n",
    "    print(f\"Fold Optimal Threshold: {optimal_threshold}\")\n",
    "    print(f\"Fold Optimal Accuracy: {optimal_accuracy}\")\n",
    "    print(f\"Fold Optimal F1-Score: {optimal_f1}\")\n",
    "\n",
    "# Calculate average performance metrics\n",
    "mean_accuracy = np.mean(accuracy_scores)\n",
    "mean_f1 = np.mean(f1_scores)\n",
    "mean_threshold = np.mean(optimal_thresholds)\n",
    "\n",
    "average_f1score += [mean_f1]\n",
    "\n",
    "print(f\"\\nMean Optimal Threshold: {mean_threshold}\")\n",
    "print(f\"Mean Accuracy: {mean_accuracy}\")\n",
    "print(f\"Mean F1-Score: {mean_f1}\")"
   ]
  },
  {
   "cell_type": "markdown",
   "id": "46723550-5c30-414c-adf8-ba469fafa2ef",
   "metadata": {},
   "source": [
    "### K fold cross validation score by using optimal threshold for Logistic regression"
   ]
  },
  {
   "cell_type": "code",
   "execution_count": 11,
   "id": "40b2774d-dbc6-4b22-8649-4cb912f8277a",
   "metadata": {},
   "outputs": [
    {
     "name": "stderr",
     "output_type": "stream",
     "text": [
      "C:\\Users\\Rabia Afzal\\anaconda3\\Lib\\site-packages\\sklearn\\linear_model\\_logistic.py:469: ConvergenceWarning: lbfgs failed to converge (status=1):\n",
      "STOP: TOTAL NO. of ITERATIONS REACHED LIMIT.\n",
      "\n",
      "Increase the number of iterations (max_iter) or scale the data as shown in:\n",
      "    https://scikit-learn.org/stable/modules/preprocessing.html\n",
      "Please also refer to the documentation for alternative solver options:\n",
      "    https://scikit-learn.org/stable/modules/linear_model.html#logistic-regression\n",
      "  n_iter_i = _check_optimize_result(\n"
     ]
    },
    {
     "name": "stdout",
     "output_type": "stream",
     "text": [
      "Fold Optimal Threshold: 0.24\n",
      "Fold Optimal Accuracy: 0.7803384615384615\n",
      "Fold Optimal F1-Score: 0.0\n"
     ]
    },
    {
     "name": "stderr",
     "output_type": "stream",
     "text": [
      "C:\\Users\\Rabia Afzal\\anaconda3\\Lib\\site-packages\\sklearn\\linear_model\\_logistic.py:469: ConvergenceWarning: lbfgs failed to converge (status=1):\n",
      "STOP: TOTAL NO. of ITERATIONS REACHED LIMIT.\n",
      "\n",
      "Increase the number of iterations (max_iter) or scale the data as shown in:\n",
      "    https://scikit-learn.org/stable/modules/preprocessing.html\n",
      "Please also refer to the documentation for alternative solver options:\n",
      "    https://scikit-learn.org/stable/modules/linear_model.html#logistic-regression\n",
      "  n_iter_i = _check_optimize_result(\n"
     ]
    },
    {
     "name": "stdout",
     "output_type": "stream",
     "text": [
      "Fold Optimal Threshold: 0.24\n",
      "Fold Optimal Accuracy: 0.7803384615384615\n",
      "Fold Optimal F1-Score: 0.0\n",
      "Fold Optimal Threshold: 0.24\n",
      "Fold Optimal Accuracy: 0.7803384615384615\n",
      "Fold Optimal F1-Score: 0.0\n"
     ]
    },
    {
     "name": "stderr",
     "output_type": "stream",
     "text": [
      "C:\\Users\\Rabia Afzal\\anaconda3\\Lib\\site-packages\\sklearn\\linear_model\\_logistic.py:469: ConvergenceWarning: lbfgs failed to converge (status=1):\n",
      "STOP: TOTAL NO. of ITERATIONS REACHED LIMIT.\n",
      "\n",
      "Increase the number of iterations (max_iter) or scale the data as shown in:\n",
      "    https://scikit-learn.org/stable/modules/preprocessing.html\n",
      "Please also refer to the documentation for alternative solver options:\n",
      "    https://scikit-learn.org/stable/modules/linear_model.html#logistic-regression\n",
      "  n_iter_i = _check_optimize_result(\n"
     ]
    },
    {
     "name": "stdout",
     "output_type": "stream",
     "text": [
      "Fold Optimal Threshold: 0.24\n",
      "Fold Optimal Accuracy: 0.7803076923076923\n",
      "Fold Optimal F1-Score: 0.0\n"
     ]
    },
    {
     "name": "stderr",
     "output_type": "stream",
     "text": [
      "C:\\Users\\Rabia Afzal\\anaconda3\\Lib\\site-packages\\sklearn\\linear_model\\_logistic.py:469: ConvergenceWarning: lbfgs failed to converge (status=1):\n",
      "STOP: TOTAL NO. of ITERATIONS REACHED LIMIT.\n",
      "\n",
      "Increase the number of iterations (max_iter) or scale the data as shown in:\n",
      "    https://scikit-learn.org/stable/modules/preprocessing.html\n",
      "Please also refer to the documentation for alternative solver options:\n",
      "    https://scikit-learn.org/stable/modules/linear_model.html#logistic-regression\n",
      "  n_iter_i = _check_optimize_result(\n"
     ]
    },
    {
     "name": "stdout",
     "output_type": "stream",
     "text": [
      "Fold Optimal Threshold: 0.24\n",
      "Fold Optimal Accuracy: 0.7803076923076923\n",
      "Fold Optimal F1-Score: 0.0\n",
      "\n",
      "Mean Optimal Threshold: 0.24\n",
      "Mean Accuracy: 0.7803261538461538\n",
      "Mean F1-Score: 0.0\n"
     ]
    }
   ],
   "source": [
    "import numpy as np\n",
    "import pandas as pd\n",
    "from sklearn.datasets import make_classification\n",
    "from sklearn.ensemble import RandomForestClassifier\n",
    "from sklearn.model_selection import StratifiedKFold\n",
    "from sklearn.metrics import accuracy_score, f1_score\n",
    "# Initialize the cross-validator\n",
    "kf = StratifiedKFold(n_splits=5, shuffle=True, random_state=42)\n",
    "\n",
    "# Lists to store performance metrics\n",
    "accuracy_scores = []\n",
    "f1_scores = []\n",
    "optimal_thresholds = []\n",
    "\n",
    "# Cross-validation process\n",
    "for train_index, val_index in kf.split(X, y):\n",
    "    X_train, X_val = X.iloc[train_index], X.iloc[val_index]\n",
    "    y_train, y_val = y.iloc[train_index], y.iloc[val_index]\n",
    "    \n",
    "    # Train the model\n",
    "    lgr = LogisticRegression()\n",
    "    lgr.fit(X_train, y_train)\n",
    "    \n",
    "    # Predict probabilities on the validation set\n",
    "    y_probs = lgr.predict_proba(X_val)[:, 1]\n",
    "    \n",
    "    # Find the optimal threshold for accuracy (can also use for F1-score)\n",
    "    thresholds = np.arange(0.0, 1.0, 0.01)\n",
    "    fold_accuracy_scores = []\n",
    "    fold_f1_scores = []\n",
    "\n",
    "    for threshold in thresholds:\n",
    "        y_pred = (y_probs >= threshold).astype(int)\n",
    "        accuracy = accuracy_score(y_val, y_pred)\n",
    "        f1 = f1_score(y_val, y_pred)\n",
    "        fold_accuracy_scores.append(accuracy)\n",
    "        fold_f1_scores.append(f1)\n",
    "\n",
    "    optimal_threshold = thresholds[np.argmax(fold_accuracy_scores)]\n",
    "    optimal_accuracy = max(fold_accuracy_scores)\n",
    "    optimal_f1 = fold_f1_scores[np.argmax(fold_accuracy_scores)]\n",
    "    \n",
    "    optimal_thresholds.append(optimal_threshold)\n",
    "    accuracy_scores.append(optimal_accuracy)\n",
    "    f1_scores.append(optimal_f1)\n",
    "    \n",
    "    print(f\"Fold Optimal Threshold: {optimal_threshold}\")\n",
    "    print(f\"Fold Optimal Accuracy: {optimal_accuracy}\")\n",
    "    print(f\"Fold Optimal F1-Score: {optimal_f1}\")\n",
    "\n",
    "# Calculate average performance metrics\n",
    "mean_accuracy = np.mean(accuracy_scores)\n",
    "mean_f1 = np.mean(f1_scores)\n",
    "mean_threshold = np.mean(optimal_thresholds)\n",
    "\n",
    "average_f1score += [mean_f1]\n",
    "print(f\"\\nMean Optimal Threshold: {mean_threshold}\")\n",
    "print(f\"Mean Accuracy: {mean_accuracy}\")\n",
    "print(f\"Mean F1-Score: {mean_f1}\")"
   ]
  },
  {
   "cell_type": "code",
   "execution_count": 197,
   "id": "923db9f1-6c99-4a3c-b697-81b59439dcad",
   "metadata": {},
   "outputs": [
    {
     "name": "stderr",
     "output_type": "stream",
     "text": [
      "C:\\Users\\Rabia Afzal\\AppData\\Local\\Temp\\ipykernel_26904\\2675754400.py:7: UserWarning: set_ticklabels() should only be used with a fixed number of ticks, i.e. after set_ticks() or using a FixedLocator.\n",
      "  axes.set_xticklabels(axes.get_xticklabels(),fontsize = 13, rotation=45)\n"
     ]
    },
    {
     "data": {
      "image/png": "[encoded data removed]",
      "text/plain": [
       "<Figure size 640x480 with 1 Axes>"
      ]
     },
     "metadata": {},
     "output_type": "display_data"
    }
   ],
   "source": [
    "dd_fold = pd.DataFrame({\"scores\": average_f1score}, index=names_1).sort_values(\"scores\", ascending=False)\n",
    "dd_fold[\"scores\"] = round(dd_fold[\"scores\"], 4)\n",
    "fig, axes = plt.subplots()\n",
    "sns.barplot(x=dd_fold.index, y=dd_fold.iloc[:, 0], ax=axes)\n",
    "for container in axes.containers:\n",
    "    axes.bar_label(container)\n",
    "axes.set_xticklabels(axes.get_xticklabels(),fontsize = 13, rotation=45)\n",
    "axes.get_yticklabels(())\n",
    "axes.set_xlabel(\"\")\n",
    "axes.set_ylabel(\"\")\n",
    "axes.set_title(\"Average f1-score by 5-fold Cross Validation\",fontweight = 'bold', fontsize = 14, color='black')\n",
    "\n",
    "plt.show()"
   ]
  },
  {
   "cell_type": "markdown",
   "id": "abd502f9-4110-428a-8e3d-64df1773810a",
   "metadata": {},
   "source": [
    "#### Neural Network"
   ]
  },
  {
   "cell_type": "code",
   "execution_count": 9,
   "id": "f7867a93-4a5d-4fdc-810d-922096cda3ff",
   "metadata": {},
   "outputs": [],
   "source": [
    "from numpy import loadtxt\n",
    "import pandas as pd\n",
    "from keras.models import Sequential\n",
    "from keras.layers import Dense\n",
    "from sklearn.metrics import f1_score, accuracy_score, confusion_matrix,classification_report "
   ]
  },
  {
   "cell_type": "code",
   "execution_count": null,
   "id": "f2595e67-913c-4bc5-89fb-da6cea673af5",
   "metadata": {},
   "outputs": [],
   "source": []
  },
  {
   "cell_type": "code",
   "execution_count": 10,
   "id": "fb9bd6c7-3483-4501-87da-beda88ed3b50",
   "metadata": {},
   "outputs": [
    {
     "name": "stderr",
     "output_type": "stream",
     "text": [
      "C:\\Users\\Rabia Afzal\\anaconda3\\Lib\\site-packages\\keras\\src\\layers\\core\\dense.py:87: UserWarning: Do not pass an `input_shape`/`input_dim` argument to a layer. When using Sequential models, prefer using an `Input(shape)` object as the first layer in the model instead.\n",
      "  super().__init__(activity_regularizer=activity_regularizer, **kwargs)\n"
     ]
    },
    {
     "data": {
      "text/html": [
       "<pre style=\"white-space:pre;overflow-x:auto;line-height:normal;font-family:Menlo,'DejaVu Sans Mono',consolas,'Courier New',monospace\"><span style=\"font-weight: bold\">Model: \"sequential\"</span>\n",
       "</pre>\n"
      ],
      "text/plain": [
       "\u001b[1mModel: \"sequential\"\u001b[0m\n"
      ]
     },
     "metadata": {},
     "output_type": "display_data"
    },
    {
     "data": {
      "text/html": [
       "<pre style=\"white-space:pre;overflow-x:auto;line-height:normal;font-family:Menlo,'DejaVu Sans Mono',consolas,'Courier New',monospace\">┏━━━━━━━━━━━━━━━━━━━━━━━━━━━━━━━━━┳━━━━━━━━━━━━━━━━━━━━━━━━┳━━━━━━━━━━━━━━━┓\n",
       "┃<span style=\"font-weight: bold\"> Layer (type)                    </span>┃<span style=\"font-weight: bold\"> Output Shape           </span>┃<span style=\"font-weight: bold\">       Param # </span>┃\n",
       "┡━━━━━━━━━━━━━━━━━━━━━━━━━━━━━━━━━╇━━━━━━━━━━━━━━━━━━━━━━━━╇━━━━━━━━━━━━━━━┩\n",
       "│ dense (<span style=\"color: #0087ff; text-decoration-color: #0087ff\">Dense</span>)                   │ (<span style=\"color: #00d7ff; text-decoration-color: #00d7ff\">None</span>, <span style=\"color: #00af00; text-decoration-color: #00af00\">12</span>)             │           <span style=\"color: #00af00; text-decoration-color: #00af00\">288</span> │\n",
       "├─────────────────────────────────┼────────────────────────┼───────────────┤\n",
       "│ dense_1 (<span style=\"color: #0087ff; text-decoration-color: #0087ff\">Dense</span>)                 │ (<span style=\"color: #00d7ff; text-decoration-color: #00d7ff\">None</span>, <span style=\"color: #00af00; text-decoration-color: #00af00\">8</span>)              │           <span style=\"color: #00af00; text-decoration-color: #00af00\">104</span> │\n",
       "├─────────────────────────────────┼────────────────────────┼───────────────┤\n",
       "│ dense_2 (<span style=\"color: #0087ff; text-decoration-color: #0087ff\">Dense</span>)                 │ (<span style=\"color: #00d7ff; text-decoration-color: #00d7ff\">None</span>, <span style=\"color: #00af00; text-decoration-color: #00af00\">1</span>)              │             <span style=\"color: #00af00; text-decoration-color: #00af00\">9</span> │\n",
       "└─────────────────────────────────┴────────────────────────┴───────────────┘\n",
       "</pre>\n"
      ],
      "text/plain": [
       "┏━━━━━━━━━━━━━━━━━━━━━━━━━━━━━━━━━┳━━━━━━━━━━━━━━━━━━━━━━━━┳━━━━━━━━━━━━━━━┓\n",
       "┃\u001b[1m \u001b[0m\u001b[1mLayer (type)                   \u001b[0m\u001b[1m \u001b[0m┃\u001b[1m \u001b[0m\u001b[1mOutput Shape          \u001b[0m\u001b[1m \u001b[0m┃\u001b[1m \u001b[0m\u001b[1m      Param #\u001b[0m\u001b[1m \u001b[0m┃\n",
       "┡━━━━━━━━━━━━━━━━━━━━━━━━━━━━━━━━━╇━━━━━━━━━━━━━━━━━━━━━━━━╇━━━━━━━━━━━━━━━┩\n",
       "│ dense (\u001b[38;5;33mDense\u001b[0m)                   │ (\u001b[38;5;45mNone\u001b[0m, \u001b[38;5;34m12\u001b[0m)             │           \u001b[38;5;34m288\u001b[0m │\n",
       "├─────────────────────────────────┼────────────────────────┼───────────────┤\n",
       "│ dense_1 (\u001b[38;5;33mDense\u001b[0m)                 │ (\u001b[38;5;45mNone\u001b[0m, \u001b[38;5;34m8\u001b[0m)              │           \u001b[38;5;34m104\u001b[0m │\n",
       "├─────────────────────────────────┼────────────────────────┼───────────────┤\n",
       "│ dense_2 (\u001b[38;5;33mDense\u001b[0m)                 │ (\u001b[38;5;45mNone\u001b[0m, \u001b[38;5;34m1\u001b[0m)              │             \u001b[38;5;34m9\u001b[0m │\n",
       "└─────────────────────────────────┴────────────────────────┴───────────────┘\n"
      ]
     },
     "metadata": {},
     "output_type": "display_data"
    },
    {
     "data": {
      "text/html": [
       "<pre style=\"white-space:pre;overflow-x:auto;line-height:normal;font-family:Menlo,'DejaVu Sans Mono',consolas,'Courier New',monospace\"><span style=\"font-weight: bold\"> Total params: </span><span style=\"color: #00af00; text-decoration-color: #00af00\">401</span> (1.57 KB)\n",
       "</pre>\n"
      ],
      "text/plain": [
       "\u001b[1m Total params: \u001b[0m\u001b[38;5;34m401\u001b[0m (1.57 KB)\n"
      ]
     },
     "metadata": {},
     "output_type": "display_data"
    },
    {
     "data": {
      "text/html": [
       "<pre style=\"white-space:pre;overflow-x:auto;line-height:normal;font-family:Menlo,'DejaVu Sans Mono',consolas,'Courier New',monospace\"><span style=\"font-weight: bold\"> Trainable params: </span><span style=\"color: #00af00; text-decoration-color: #00af00\">401</span> (1.57 KB)\n",
       "</pre>\n"
      ],
      "text/plain": [
       "\u001b[1m Trainable params: \u001b[0m\u001b[38;5;34m401\u001b[0m (1.57 KB)\n"
      ]
     },
     "metadata": {},
     "output_type": "display_data"
    },
    {
     "data": {
      "text/html": [
       "<pre style=\"white-space:pre;overflow-x:auto;line-height:normal;font-family:Menlo,'DejaVu Sans Mono',consolas,'Courier New',monospace\"><span style=\"font-weight: bold\"> Non-trainable params: </span><span style=\"color: #00af00; text-decoration-color: #00af00\">0</span> (0.00 B)\n",
       "</pre>\n"
      ],
      "text/plain": [
       "\u001b[1m Non-trainable params: \u001b[0m\u001b[38;5;34m0\u001b[0m (0.00 B)\n"
      ]
     },
     "metadata": {},
     "output_type": "display_data"
    }
   ],
   "source": [
    "# Build NN model\n",
    "import tensorflow as tf\n",
    "from tensorflow.keras.models import Sequential\n",
    "from tensorflow.keras.layers import Dense,Dropout\n",
    "\n",
    "model = Sequential() # initialising Nueral Network\n",
    "model.add(Dense(12, activation ='relu', input_shape=(23,)))\n",
    "model.add(Dense(8, activation ='relu'))\n",
    "model.add(Dense(1, activation = 'sigmoid')) # In output layer, there is only one target value\n",
    "# Sigmoid has range between 0 and 1 and we have a classofication problem.\n",
    "\n",
    "model.summary()"
   ]
  },
  {
   "cell_type": "code",
   "execution_count": 11,
   "id": "022a7a33-53d4-4714-bb72-e0e3f5bdb75a",
   "metadata": {},
   "outputs": [],
   "source": [
    "#setting up our compiler and optimiser Adam\n",
    "model.compile(\n",
    "    loss = 'binary_crossentropy',\n",
    "    metrics = ['accuracy'],\n",
    "    optimizer = 'adam'\n",
    ")"
   ]
  },
  {
   "cell_type": "code",
   "execution_count": 12,
   "id": "ad9df221-b614-45ad-bb11-0539abe8486f",
   "metadata": {},
   "outputs": [
    {
     "name": "stdout",
     "output_type": "stream",
     "text": [
      "Epoch 1/10\n",
      "\u001b[1m6500/6500\u001b[0m \u001b[32m━━━━━━━━━━━━━━━━━━━━\u001b[0m\u001b[37m\u001b[0m \u001b[1m6s\u001b[0m 837us/step - accuracy: 0.7749 - loss: 1.3585 - val_accuracy: 0.7835 - val_loss: 0.5270\n",
      "Epoch 2/10\n",
      "\u001b[1m6500/6500\u001b[0m \u001b[32m━━━━━━━━━━━━━━━━━━━━\u001b[0m\u001b[37m\u001b[0m \u001b[1m6s\u001b[0m 847us/step - accuracy: 0.7793 - loss: 0.5357 - val_accuracy: 0.7835 - val_loss: 0.5258\n",
      "Epoch 3/10\n",
      "\u001b[1m6500/6500\u001b[0m \u001b[32m━━━━━━━━━━━━━━━━━━━━\u001b[0m\u001b[37m\u001b[0m \u001b[1m6s\u001b[0m 936us/step - accuracy: 0.7802 - loss: 0.5305 - val_accuracy: 0.7835 - val_loss: 0.5239\n",
      "Epoch 4/10\n",
      "\u001b[1m6500/6500\u001b[0m \u001b[32m━━━━━━━━━━━━━━━━━━━━\u001b[0m\u001b[37m\u001b[0m \u001b[1m7s\u001b[0m 1ms/step - accuracy: 0.7790 - loss: 0.5303 - val_accuracy: 0.7835 - val_loss: 0.5232\n",
      "Epoch 5/10\n",
      "\u001b[1m6500/6500\u001b[0m \u001b[32m━━━━━━━━━━━━━━━━━━━━\u001b[0m\u001b[37m\u001b[0m \u001b[1m7s\u001b[0m 1ms/step - accuracy: 0.7792 - loss: 0.5293 - val_accuracy: 0.7835 - val_loss: 0.5229\n",
      "Epoch 6/10\n",
      "\u001b[1m6500/6500\u001b[0m \u001b[32m━━━━━━━━━━━━━━━━━━━━\u001b[0m\u001b[37m\u001b[0m \u001b[1m8s\u001b[0m 1ms/step - accuracy: 0.7815 - loss: 0.5260 - val_accuracy: 0.7835 - val_loss: 0.5251\n",
      "Epoch 7/10\n",
      "\u001b[1m6500/6500\u001b[0m \u001b[32m━━━━━━━━━━━━━━━━━━━━\u001b[0m\u001b[37m\u001b[0m \u001b[1m8s\u001b[0m 1ms/step - accuracy: 0.7808 - loss: 0.5266 - val_accuracy: 0.7835 - val_loss: 0.5225\n",
      "Epoch 8/10\n",
      "\u001b[1m6500/6500\u001b[0m \u001b[32m━━━━━━━━━━━━━━━━━━━━\u001b[0m\u001b[37m\u001b[0m \u001b[1m9s\u001b[0m 1ms/step - accuracy: 0.7791 - loss: 0.5285 - val_accuracy: 0.7835 - val_loss: 0.5226\n",
      "Epoch 9/10\n",
      "\u001b[1m6500/6500\u001b[0m \u001b[32m━━━━━━━━━━━━━━━━━━━━\u001b[0m\u001b[37m\u001b[0m \u001b[1m7s\u001b[0m 1ms/step - accuracy: 0.7801 - loss: 0.5269 - val_accuracy: 0.7835 - val_loss: 0.5224\n",
      "Epoch 10/10\n",
      "\u001b[1m6500/6500\u001b[0m \u001b[32m━━━━━━━━━━━━━━━━━━━━\u001b[0m\u001b[37m\u001b[0m \u001b[1m7s\u001b[0m 1ms/step - accuracy: 0.7817 - loss: 0.5247 - val_accuracy: 0.7835 - val_loss: 0.5225\n"
     ]
    }
   ],
   "source": [
    "# training our model with our parameters \n",
    "runs = model.fit(\n",
    "    x=X_train,\n",
    "    y=y_train,\n",
    "    epochs=10,\n",
    "    batch_size=20,\n",
    "    validation_data=(X_test, y_test),\n",
    ")\n",
    "#'batch_size': 100, 'epochs': 10\n",
    "#epochs=10,batch_size=20,"
   ]
  },
  {
   "cell_type": "code",
   "execution_count": 36,
   "id": "526fd0a2-522f-4438-a644-84e4fcc81f48",
   "metadata": {},
   "outputs": [
    {
     "name": "stdout",
     "output_type": "stream",
     "text": [
      "\u001b[1m1016/1016\u001b[0m \u001b[32m━━━━━━━━━━━━━━━━━━━━\u001b[0m\u001b[37m\u001b[0m \u001b[1m1s\u001b[0m 657us/step - accuracy: 0.5239 - loss: 0.6861\n"
     ]
    },
    {
     "data": {
      "text/plain": [
       "[0.6848047375679016, 0.5260615348815918]"
      ]
     },
     "execution_count": 36,
     "metadata": {},
     "output_type": "execute_result"
    }
   ],
   "source": [
    "## check results\n",
    "model.evaluate(X_test, y_test)"
   ]
  },
  {
   "cell_type": "code",
   "execution_count": 16,
   "id": "96e44fcd-c1f0-4f6c-a1ea-7b3970f3ce3d",
   "metadata": {
    "scrolled": true
   },
   "outputs": [
    {
     "ename": "NameError",
     "evalue": "name 'runs' is not defined",
     "output_type": "error",
     "traceback": [
      "\u001b[1;31m---------------------------------------------------------------------------\u001b[0m",
      "\u001b[1;31mNameError\u001b[0m                                 Traceback (most recent call last)",
      "Cell \u001b[1;32mIn[16], line 2\u001b[0m\n\u001b[0;32m      1\u001b[0m \u001b[38;5;66;03m# Evaluating model performance\u001b[39;00m\n\u001b[1;32m----> 2\u001b[0m plt\u001b[38;5;241m.\u001b[39mplot(runs\u001b[38;5;241m.\u001b[39mhistory[\u001b[38;5;124m'\u001b[39m\u001b[38;5;124mloss\u001b[39m\u001b[38;5;124m'\u001b[39m])\n\u001b[0;32m      3\u001b[0m plt\u001b[38;5;241m.\u001b[39mplot(runs\u001b[38;5;241m.\u001b[39mhistory[\u001b[38;5;124m'\u001b[39m\u001b[38;5;124mval_loss\u001b[39m\u001b[38;5;124m'\u001b[39m])\n\u001b[0;32m      5\u001b[0m plt\u001b[38;5;241m.\u001b[39mtitle(\u001b[38;5;124m'\u001b[39m\u001b[38;5;124mModel Loss Progression During Training/Validation\u001b[39m\u001b[38;5;124m'\u001b[39m)\n",
      "\u001b[1;31mNameError\u001b[0m: name 'runs' is not defined"
     ]
    }
   ],
   "source": [
    "# Evaluating model performance\n",
    "plt.plot(runs.history['loss'])\n",
    "plt.plot(runs.history['val_loss'])\n",
    "\n",
    "plt.title('Model Loss Progression During Training/Validation')\n",
    "plt.ylabel('Training and Validation Losses')\n",
    "plt.xlabel('Epoch Number')\n",
    "plt.legend(['Training Loss', 'Validation Loss'])"
   ]
  },
  {
   "cell_type": "code",
   "execution_count": 63,
   "id": "1001bdca-a0d2-452b-b2bb-585e5ae8f87b",
   "metadata": {},
   "outputs": [
    {
     "name": "stdout",
     "output_type": "stream",
     "text": [
      "\u001b[1m1016/1016\u001b[0m \u001b[32m━━━━━━━━━━━━━━━━━━━━\u001b[0m\u001b[37m\u001b[0m \u001b[1m2s\u001b[0m 2ms/step\n"
     ]
    },
    {
     "data": {
      "text/plain": [
       "array([[0.37811884],\n",
       "       [0.5081878 ],\n",
       "       [0.569472  ],\n",
       "       [0.6399635 ],\n",
       "       [0.5315969 ],\n",
       "       [0.58141637]], dtype=float32)"
      ]
     },
     "execution_count": 63,
     "metadata": {},
     "output_type": "execute_result"
    }
   ],
   "source": [
    "predictions = model.predict(X_test)\n",
    "predictions[:6]"
   ]
  },
  {
   "cell_type": "code",
   "execution_count": 43,
   "id": "59636e10-3fe6-4a91-8772-810815836660",
   "metadata": {},
   "outputs": [],
   "source": [
    "\n",
    "#score = accuracy_score(predictions, y_test)\n"
   ]
  },
  {
   "cell_type": "code",
   "execution_count": 42,
   "id": "07c8f039-0963-4802-a5b7-6b38f81adabc",
   "metadata": {},
   "outputs": [
    {
     "name": "stdout",
     "output_type": "stream",
     "text": [
      "\u001b[1m1016/1016\u001b[0m \u001b[32m━━━━━━━━━━━━━━━━━━━━\u001b[0m\u001b[37m\u001b[0m \u001b[1m1s\u001b[0m 652us/step\n"
     ]
    },
    {
     "data": {
      "text/plain": [
       "0.7835384615384615"
      ]
     },
     "execution_count": 42,
     "metadata": {},
     "output_type": "execute_result"
    }
   ],
   "source": [
    "proba = model.predict(X_test)\n",
    "pred = [np.argmax(i) for i in proba]\n",
    "score = accuracy_score(pred, y_test)\n",
    "score"
   ]
  },
  {
   "cell_type": "code",
   "execution_count": 40,
   "id": "60fe87c3-80c2-4c69-8d57-f0e4159bbcbb",
   "metadata": {},
   "outputs": [
    {
     "data": {
      "text/plain": [
       "array([[25465,  7035],\n",
       "       [    0,     0]], dtype=int64)"
      ]
     },
     "execution_count": 40,
     "metadata": {},
     "output_type": "execute_result"
    }
   ],
   "source": [
    "confusion_matrix(pred, y_test)"
   ]
  },
  {
   "cell_type": "code",
   "execution_count": 31,
   "id": "5ccc660c-6656-4d98-a8c3-0082259274d2",
   "metadata": {},
   "outputs": [
    {
     "name": "stdout",
     "output_type": "stream",
     "text": [
      "\u001b[1m1016/1016\u001b[0m \u001b[32m━━━━━━━━━━━━━━━━━━━━\u001b[0m\u001b[37m\u001b[0m \u001b[1m1s\u001b[0m 809us/step\n"
     ]
    },
    {
     "name": "stderr",
     "output_type": "stream",
     "text": [
      "C:\\Users\\Rabia Afzal\\anaconda3\\Lib\\site-packages\\sklearn\\metrics\\_classification.py:1509: UndefinedMetricWarning: Recall is ill-defined and being set to 0.0 in labels with no true samples. Use `zero_division` parameter to control this behavior.\n",
      "  _warn_prf(average, modifier, f\"{metric.capitalize()} is\", len(result))\n",
      "C:\\Users\\Rabia Afzal\\anaconda3\\Lib\\site-packages\\sklearn\\metrics\\_classification.py:1509: UndefinedMetricWarning: Recall is ill-defined and being set to 0.0 in labels with no true samples. Use `zero_division` parameter to control this behavior.\n",
      "  _warn_prf(average, modifier, f\"{metric.capitalize()} is\", len(result))\n",
      "C:\\Users\\Rabia Afzal\\anaconda3\\Lib\\site-packages\\sklearn\\metrics\\_classification.py:1509: UndefinedMetricWarning: Recall is ill-defined and being set to 0.0 in labels with no true samples. Use `zero_division` parameter to control this behavior.\n",
      "  _warn_prf(average, modifier, f\"{metric.capitalize()} is\", len(result))\n"
     ]
    }
   ],
   "source": [
    "proba_NN = model.predict(X_test)\n",
    "pred_NN = [np.argmax(i) for i in proba_NN]\n",
    "score_NN = accuracy_score(pred_NN, y_test)\n",
    "report_NN = classification_report(pred_NN, y_test)\n",
    "cm_NN = confusion_matrix(pred_NN, y_test)\n",
    "\n",
    "optimal_accuracy_score += [score_NN]\n",
    "#scores += [score*100]\n",
    "#reports[\"Neural Network\"] = report\n",
    "cms[\"Neural Network\"] = cm_NN\n",
    "#preds[\"Neural Network\"] = pred\n",
    "#probas[\"Neural Network\"] = proba"
   ]
  },
  {
   "cell_type": "code",
   "execution_count": 32,
   "id": "387db225-dc7d-4988-8cbf-7ec9440512bd",
   "metadata": {},
   "outputs": [
    {
     "data": {
      "text/plain": [
       "{'Random Forest': array([[20525,  4940],\n",
       "        [ 5676,  1359]], dtype=int64),\n",
       " 'Logistic Regression': array([[12462, 13003],\n",
       "        [ 3446,  3589]], dtype=int64),\n",
       " 'Neural Network': array([[25465,  7035],\n",
       "        [    0,     0]], dtype=int64)}"
      ]
     },
     "execution_count": 32,
     "metadata": {},
     "output_type": "execute_result"
    }
   ],
   "source": [
    "cms"
   ]
  },
  {
   "cell_type": "code",
   "execution_count": 40,
   "id": "ecae0739-d78a-44c2-bb6e-977485e29ca7",
   "metadata": {},
   "outputs": [],
   "source": [
    "optimal_accuracy_score = [0.7835692307692308*100, 0.7835384615384615*100, 0.7835384615384615*100]"
   ]
  },
  {
   "cell_type": "code",
   "execution_count": 41,
   "id": "9f52301e-9094-40b5-a25d-4de958b16bed",
   "metadata": {},
   "outputs": [],
   "source": [
    "names = [\"Random Forest\",\"Logistic Regression\",\"Neural Network\"]"
   ]
  },
  {
   "cell_type": "code",
   "execution_count": 18,
   "id": "3df67517-e599-4b38-9bc3-99334d754d2f",
   "metadata": {},
   "outputs": [
    {
     "data": {
      "text/plain": [
       "['Random Forest', 'Logistic Regression', 'Neural Network']"
      ]
     },
     "execution_count": 18,
     "metadata": {},
     "output_type": "execute_result"
    }
   ],
   "source": [
    "names"
   ]
  },
  {
   "cell_type": "code",
   "execution_count": 42,
   "id": "9cd13ea4-581c-4b22-b10e-e04f46246bee",
   "metadata": {},
   "outputs": [
    {
     "name": "stderr",
     "output_type": "stream",
     "text": [
      "C:\\Users\\Rabia Afzal\\AppData\\Local\\Temp\\ipykernel_44796\\3067225813.py:8: UserWarning: set_ticklabels() should only be used with a fixed number of ticks, i.e. after set_ticks() or using a FixedLocator.\n",
      "  axes.set_xticklabels(axes.get_xticklabels(),fontsize = 12, rotation=45)\n"
     ]
    },
    {
     "data": {
      "image/png": "[encoded data removed]",
      "text/plain": [
       "<Figure size 640x480 with 1 Axes>"
      ]
     },
     "metadata": {},
     "output_type": "display_data"
    }
   ],
   "source": [
    "#dd = pd.DataFrame({\"scores\": scores}, index=names).sort_values(\"scores\", ascending=False)\n",
    "dd = pd.DataFrame({\"scores\": optimal_accuracy_score}, index=names).sort_values(\"scores\", ascending=False)\n",
    "dd[\"scores\"] = round(dd[\"scores\"], 2)\n",
    "fig, axes = plt.subplots()\n",
    "sns.barplot(x=dd.index, y=dd.iloc[:, 0], ax=axes)\n",
    "for container in axes.containers:\n",
    "    axes.bar_label(container)\n",
    "axes.set_xticklabels(axes.get_xticklabels(),fontsize = 12, rotation=45)\n",
    "axes.get_yticklabels(())\n",
    "axes.set_xlabel(\"\")\n",
    "axes.set_ylabel(\"Accuracy score\", fontsize = 12, color='black')\n",
    "axes.set_title(\"Models evaluation by Accuracy score\",fontweight = 'bold', fontsize = 13, color='black')\n",
    "\n",
    "plt.show()"
   ]
  },
  {
   "cell_type": "code",
   "execution_count": 49,
   "id": "bb747b9e-01ad-4a7b-a914-cbe0bf44a273",
   "metadata": {},
   "outputs": [
    {
     "name": "stderr",
     "output_type": "stream",
     "text": [
      "C:\\Users\\Rabia Afzal\\AppData\\Local\\Temp\\ipykernel_42060\\121242523.py:9: UserWarning: set_ticklabels() should only be used with a fixed number of ticks, i.e. after set_ticks() or using a FixedLocator.\n",
      "  axes.set_xticklabels(axes.get_xticklabels(),fontsize = 10, rotation=10)\n"
     ]
    },
    {
     "data": {
      "image/png": "[encoded data removed]",
      "text/plain": [
       "<Figure size 640x480 with 1 Axes>"
      ]
     },
     "metadata": {},
     "output_type": "display_data"
    }
   ],
   "source": [
    "#dd = pd.DataFrame({\"scores\": scores}, index=names).sort_values(\"scores\", ascending=False)\n",
    "names_new = [\"Accuracy without optimal threshold\", \"Accuracy with optimal threshold\"]\n",
    "dd = pd.DataFrame({\"scores\": scores_new}, index=names_new).sort_values(\"scores\", ascending=False)\n",
    "#dd[\"scores\"] = round(dd[\"scores\"], 2)\n",
    "fig, axes = plt.subplots()\n",
    "sns.barplot(x=dd.index, y=dd.iloc[:, 0], ax=axes)\n",
    "for container in axes.containers:\n",
    "    axes.bar_label(container)\n",
    "axes.set_xticklabels(axes.get_xticklabels(),fontsize = 10, rotation=10)\n",
    "axes.get_yticklabels(())\n",
    "axes.set_xlabel(\"\")\n",
    "axes.set_ylabel(\"Accuracy score\", fontsize = 10, color='black')\n",
    "axes.set_title(\"Accuracy score for Logistic Regression\",fontweight = 'bold', fontsize = 13, color='black')\n",
    "\n",
    "plt.show()"
   ]
  }
 ],
 "metadata": {
  "kernelspec": {
   "display_name": "Python 3 (ipykernel)",
   "language": "python",
   "name": "python3"
  },
  "language_info": {
   "codemirror_mode": {
    "name": "ipython",
    "version": 3
   },
   "file_extension": ".py",
   "mimetype": "text/x-python",
   "name": "python",
   "nbconvert_exporter": "python",
   "pygments_lexer": "ipython3",
   "version": "3.11.7"
  }
 },
 "nbformat": 4,
 "nbformat_minor": 5
}
